{
 "cells": [
  {
   "cell_type": "markdown",
   "metadata": {},
   "source": [
    "Importing important libraries\n"
   ]
  },
  {
   "cell_type": "code",
   "execution_count": 1,
   "metadata": {},
   "outputs": [],
   "source": [
    "import pandas as pd\n",
    "import numpy as np\n",
    "import os\n",
    "import requests\n",
    "from io import BytesIO\n",
    "import tweepy\n",
    "import re\n",
    "import json\n",
    "from timeit import default_timer as timer\n",
    "import matplotlib.pyplot as plt\n",
    "%matplotlib inline\n",
    "import seaborn as sns\n",
    "sns.set()"
   ]
  },
  {
   "cell_type": "markdown",
   "metadata": {},
   "source": [
    "# Gathring Data (1)\n",
    "Download the file manually then read into a dataframe with an appropriate name using the pandas library."
   ]
  },
  {
   "cell_type": "code",
   "execution_count": 2,
   "metadata": {},
   "outputs": [],
   "source": [
    "df_1 = pd.read_csv('work_directory/twitter-archive-enhanced.csv')"
   ]
  },
  {
   "cell_type": "markdown",
   "metadata": {},
   "source": [
    "# Gathring Data (2)\n",
    "- Downloaded programmatically using the Requests library and the provided URL.\n",
    "- Store the data to anew file with name extracted from the URL.\n",
    "- read the data and assign it to a new data frame."
   ]
  },
  {
   "cell_type": "code",
   "execution_count": 3,
   "metadata": {},
   "outputs": [],
   "source": [
    "folder_name ='work_directory'\n",
    "#Make directory if it doesn't already exist\n",
    "if not os.path.exists(folder_name):\n",
    "    os.makedirs(folder_name)"
   ]
  },
  {
   "cell_type": "code",
   "execution_count": 4,
   "metadata": {},
   "outputs": [],
   "source": [
    "url = 'https://d17h27t6h515a5.cloudfront.net/topher/2017/August/599fd2ad_image-predictions/image-predictions.tsv'\n",
    "r = requests.get(url)\n",
    "with open (os.path.join(folder_name, url.split('/')[-1]),mode = 'wb') as file:\n",
    "     file.write(r.content)"
   ]
  },
  {
   "cell_type": "code",
   "execution_count": 5,
   "metadata": {},
   "outputs": [],
   "source": [
    "df_2 = pd.read_csv('work_directory/image-predictions.tsv',sep = '\\s+')"
   ]
  },
  {
   "cell_type": "markdown",
   "metadata": {},
   "source": [
    "# Gather (3)\n",
    "- Using the tweet IDs in the WeRateDogs Twitter archive, query the Twitter API for each tweet's JSON data using Python's Tweepy library.\n",
    "- Store each tweet's entire set of JSON data in a file called tweet_json.txt file.\n",
    "- Each tweet's JSON data should be written to its own line and seprated by '\\n'.\n",
    "- Because of there may be some deleted tweets for which no status would be found then try-except statment should be used to avoid exceptions.\n",
    "- append such not found tweet_ids to an empty list to know how many tweets in archive data set was not found."
   ]
  },
  {
   "cell_type": "code",
   "execution_count": 6,
   "metadata": {},
   "outputs": [],
   "source": [
    "consumer_key =    '********************************'\n",
    "\n",
    "consumer_secret = '********************************'\n",
    "\n",
    "access_token =    '********************************'\n",
    "\n",
    "access_secret =    '*******************************'\n",
    "\n",
    "\n",
    "auth = tweepy.OAuthHandler(consumer_key, consumer_secret)\n",
    "auth.set_access_token(access_token, access_secret)\n",
    "\n",
    "api = tweepy.API(auth, wait_on_rate_limit=True)\n",
    "tweet_ids = df_1.tweet_id.values\n",
    "len(tweet_ids)\n",
    "\n",
    "# Query Twitter's API for JSON data for each tweet ID in the Twitter archive\n",
    "count = 0\n",
    "fails_list = []\n",
    "start = timer()\n",
    "if not os.path.isfile('work_directory/tweet_json.txt'):\n",
    "    with open('work_directory/tweet_json.txt', 'w') as file:\n",
    "    # This loop will likely take 20-30 minutes to run because of Twitter's rate limit\n",
    "        for tweet_id in tweet_ids:\n",
    "            count += 1\n",
    "            print(str(count) + \": \" + str(tweet_id))\n",
    "            try:\n",
    "                tweet = api.get_status(tweet_id, tweet_mode='extended')\n",
    "                print(\"Success\")\n",
    "                json.dump(tweet._json, file) # Save each tweet's returned JSON as a new line in a .txt file\n",
    "                file.write('\\n')\n",
    "            except tweepy.TweepError as e:\n",
    "                print(\"Fail\")\n",
    "                fails_list.append(tweet_id)\n",
    "                pass\n",
    "end = timer()"
   ]
  },
  {
   "cell_type": "code",
   "execution_count": 7,
   "metadata": {},
   "outputs": [
    {
     "data": {
      "text/plain": [
       "0"
      ]
     },
     "execution_count": 7,
     "metadata": {},
     "output_type": "execute_result"
    }
   ],
   "source": [
    "len(fails_list)"
   ]
  },
  {
   "cell_type": "markdown",
   "metadata": {},
   "source": [
    "# Gather (3) continue\n",
    "- Read this tweet_json.txt file line by line. \n",
    "- convert string type to list of dictionaries data structur.\n",
    "- Extract data required as per project requirement\n",
    "- DataFrame contains tweet ID,retweet count, and favorite count."
   ]
  },
  {
   "cell_type": "code",
   "execution_count": 8,
   "metadata": {},
   "outputs": [
    {
     "name": "stdout",
     "output_type": "stream",
     "text": [
      "dict_keys(['created_at', 'id', 'id_str', 'full_text', 'truncated', 'display_text_range', 'entities', 'extended_entities', 'source', 'in_reply_to_status_id', 'in_reply_to_status_id_str', 'in_reply_to_user_id', 'in_reply_to_user_id_str', 'in_reply_to_screen_name', 'user', 'geo', 'coordinates', 'place', 'contributors', 'is_quote_status', 'retweet_count', 'favorite_count', 'favorited', 'retweeted', 'possibly_sensitive', 'possibly_sensitive_appealable', 'lang'])\n"
     ]
    }
   ],
   "source": [
    "df3_list = []\n",
    "with open ('work_directory/tweet_json.txt',\"r\") as j_file:\n",
    "    for l in j_file:\n",
    "        dic = {}\n",
    "        data=json.loads(l)\n",
    "        dic['id'] = data['id']\n",
    "        dic['favorite_count'] = data['favorite_count']\n",
    "        dic['retweet_count'] = data['retweet_count']\n",
    "        dic['followers_count'] = data['user']['followers_count']\n",
    "        df3_list.append(dic)\n",
    "print(data.keys())"
   ]
  },
  {
   "cell_type": "code",
   "execution_count": 9,
   "metadata": {},
   "outputs": [],
   "source": [
    "df_3 = pd.DataFrame(df3_list,columns = ['id','retweet_count','favorite_count','followers_count',])"
   ]
  },
  {
   "cell_type": "code",
   "execution_count": 10,
   "metadata": {},
   "outputs": [],
   "source": [
    "df_3.to_csv('work_directory/tweet1.csv')"
   ]
  },
  {
   "cell_type": "code",
   "execution_count": 11,
   "metadata": {},
   "outputs": [
    {
     "data": {
      "text/plain": [
       "2330"
      ]
     },
     "execution_count": 11,
     "metadata": {},
     "output_type": "execute_result"
    }
   ],
   "source": [
    "df_3 = pd.read_csv('work_directory/tweet1.csv')\n",
    "len(df_3)"
   ]
  },
  {
   "cell_type": "markdown",
   "metadata": {},
   "source": [
    "# Assesment"
   ]
  },
  {
   "cell_type": "code",
   "execution_count": 12,
   "metadata": {},
   "outputs": [
    {
     "data": {
      "text/html": [
       "<div>\n",
       "<style scoped>\n",
       "    .dataframe tbody tr th:only-of-type {\n",
       "        vertical-align: middle;\n",
       "    }\n",
       "\n",
       "    .dataframe tbody tr th {\n",
       "        vertical-align: top;\n",
       "    }\n",
       "\n",
       "    .dataframe thead th {\n",
       "        text-align: right;\n",
       "    }\n",
       "</style>\n",
       "<table border=\"1\" class=\"dataframe\">\n",
       "  <thead>\n",
       "    <tr style=\"text-align: right;\">\n",
       "      <th></th>\n",
       "      <th>tweet_id</th>\n",
       "      <th>in_reply_to_status_id</th>\n",
       "      <th>in_reply_to_user_id</th>\n",
       "      <th>timestamp</th>\n",
       "      <th>source</th>\n",
       "      <th>text</th>\n",
       "      <th>retweeted_status_id</th>\n",
       "      <th>retweeted_status_user_id</th>\n",
       "      <th>retweeted_status_timestamp</th>\n",
       "      <th>expanded_urls</th>\n",
       "      <th>rating_numerator</th>\n",
       "      <th>rating_denominator</th>\n",
       "      <th>name</th>\n",
       "      <th>doggo</th>\n",
       "      <th>floofer</th>\n",
       "      <th>pupper</th>\n",
       "      <th>puppo</th>\n",
       "    </tr>\n",
       "  </thead>\n",
       "  <tbody>\n",
       "    <tr>\n",
       "      <th>1773</th>\n",
       "      <td>678255464182861824</td>\n",
       "      <td>NaN</td>\n",
       "      <td>NaN</td>\n",
       "      <td>2015-12-19 16:47:58 +0000</td>\n",
       "      <td>&lt;a href=\"http://twitter.com/download/iphone\" r...</td>\n",
       "      <td>This is Jessifer. She is a Bismoth Teriyaki. F...</td>\n",
       "      <td>NaN</td>\n",
       "      <td>NaN</td>\n",
       "      <td>NaN</td>\n",
       "      <td>https://twitter.com/dog_rates/status/678255464...</td>\n",
       "      <td>9</td>\n",
       "      <td>10</td>\n",
       "      <td>Jessifer</td>\n",
       "      <td>None</td>\n",
       "      <td>None</td>\n",
       "      <td>None</td>\n",
       "      <td>None</td>\n",
       "    </tr>\n",
       "    <tr>\n",
       "      <th>2323</th>\n",
       "      <td>666428276349472768</td>\n",
       "      <td>NaN</td>\n",
       "      <td>NaN</td>\n",
       "      <td>2015-11-17 01:30:57 +0000</td>\n",
       "      <td>&lt;a href=\"http://twitter.com/download/iphone\" r...</td>\n",
       "      <td>Here we have an Austrian Pulitzer. Collectors ...</td>\n",
       "      <td>NaN</td>\n",
       "      <td>NaN</td>\n",
       "      <td>NaN</td>\n",
       "      <td>https://twitter.com/dog_rates/status/666428276...</td>\n",
       "      <td>7</td>\n",
       "      <td>10</td>\n",
       "      <td>None</td>\n",
       "      <td>None</td>\n",
       "      <td>None</td>\n",
       "      <td>None</td>\n",
       "      <td>None</td>\n",
       "    </tr>\n",
       "    <tr>\n",
       "      <th>877</th>\n",
       "      <td>760893934457552897</td>\n",
       "      <td>NaN</td>\n",
       "      <td>NaN</td>\n",
       "      <td>2016-08-03 17:43:45 +0000</td>\n",
       "      <td>&lt;a href=\"http://twitter.com/download/iphone\" r...</td>\n",
       "      <td>This is Wishes. He has the day off. Daily stru...</td>\n",
       "      <td>NaN</td>\n",
       "      <td>NaN</td>\n",
       "      <td>NaN</td>\n",
       "      <td>https://twitter.com/dog_rates/status/760893934...</td>\n",
       "      <td>11</td>\n",
       "      <td>10</td>\n",
       "      <td>Wishes</td>\n",
       "      <td>doggo</td>\n",
       "      <td>None</td>\n",
       "      <td>None</td>\n",
       "      <td>None</td>\n",
       "    </tr>\n",
       "    <tr>\n",
       "      <th>1156</th>\n",
       "      <td>724771698126512129</td>\n",
       "      <td>NaN</td>\n",
       "      <td>NaN</td>\n",
       "      <td>2016-04-26 01:26:53 +0000</td>\n",
       "      <td>&lt;a href=\"http://twitter.com/download/iphone\" r...</td>\n",
       "      <td>Nothin better than a doggo and a sunset. 11/10...</td>\n",
       "      <td>NaN</td>\n",
       "      <td>NaN</td>\n",
       "      <td>NaN</td>\n",
       "      <td>https://twitter.com/dog_rates/status/724771698...</td>\n",
       "      <td>11</td>\n",
       "      <td>10</td>\n",
       "      <td>None</td>\n",
       "      <td>doggo</td>\n",
       "      <td>None</td>\n",
       "      <td>None</td>\n",
       "      <td>None</td>\n",
       "    </tr>\n",
       "    <tr>\n",
       "      <th>278</th>\n",
       "      <td>840268004936019968</td>\n",
       "      <td>NaN</td>\n",
       "      <td>NaN</td>\n",
       "      <td>2017-03-10 18:27:58 +0000</td>\n",
       "      <td>&lt;a href=\"http://twitter.com/download/iphone\" r...</td>\n",
       "      <td>This is Monty. He makes instantly regrettable ...</td>\n",
       "      <td>NaN</td>\n",
       "      <td>NaN</td>\n",
       "      <td>NaN</td>\n",
       "      <td>https://twitter.com/dog_rates/status/840268004...</td>\n",
       "      <td>12</td>\n",
       "      <td>10</td>\n",
       "      <td>Monty</td>\n",
       "      <td>None</td>\n",
       "      <td>None</td>\n",
       "      <td>None</td>\n",
       "      <td>None</td>\n",
       "    </tr>\n",
       "    <tr>\n",
       "      <th>1580</th>\n",
       "      <td>687127927494963200</td>\n",
       "      <td>NaN</td>\n",
       "      <td>NaN</td>\n",
       "      <td>2016-01-13 04:23:58 +0000</td>\n",
       "      <td>&lt;a href=\"http://twitter.com/download/iphone\" r...</td>\n",
       "      <td>Meet Gordon. He's an asshole. 9/10 would still...</td>\n",
       "      <td>NaN</td>\n",
       "      <td>NaN</td>\n",
       "      <td>NaN</td>\n",
       "      <td>https://twitter.com/dog_rates/status/687127927...</td>\n",
       "      <td>9</td>\n",
       "      <td>10</td>\n",
       "      <td>Gordon</td>\n",
       "      <td>None</td>\n",
       "      <td>None</td>\n",
       "      <td>None</td>\n",
       "      <td>None</td>\n",
       "    </tr>\n",
       "    <tr>\n",
       "      <th>1313</th>\n",
       "      <td>706904523814649856</td>\n",
       "      <td>NaN</td>\n",
       "      <td>NaN</td>\n",
       "      <td>2016-03-07 18:09:06 +0000</td>\n",
       "      <td>&lt;a href=\"http://vine.co\" rel=\"nofollow\"&gt;Vine -...</td>\n",
       "      <td>Ever seen a dog pet another dog? Both 13/10 tr...</td>\n",
       "      <td>NaN</td>\n",
       "      <td>NaN</td>\n",
       "      <td>NaN</td>\n",
       "      <td>https://vine.co/v/iXQAm5Lrgrh</td>\n",
       "      <td>13</td>\n",
       "      <td>10</td>\n",
       "      <td>None</td>\n",
       "      <td>None</td>\n",
       "      <td>None</td>\n",
       "      <td>None</td>\n",
       "      <td>None</td>\n",
       "    </tr>\n",
       "    <tr>\n",
       "      <th>1393</th>\n",
       "      <td>700029284593901568</td>\n",
       "      <td>NaN</td>\n",
       "      <td>NaN</td>\n",
       "      <td>2016-02-17 18:49:22 +0000</td>\n",
       "      <td>&lt;a href=\"http://twitter.com/download/iphone\" r...</td>\n",
       "      <td>This is Coops. His ship is taking on water. So...</td>\n",
       "      <td>NaN</td>\n",
       "      <td>NaN</td>\n",
       "      <td>NaN</td>\n",
       "      <td>https://twitter.com/dog_rates/status/700029284...</td>\n",
       "      <td>10</td>\n",
       "      <td>10</td>\n",
       "      <td>Coops</td>\n",
       "      <td>None</td>\n",
       "      <td>None</td>\n",
       "      <td>None</td>\n",
       "      <td>None</td>\n",
       "    </tr>\n",
       "    <tr>\n",
       "      <th>304</th>\n",
       "      <td>836380477523124226</td>\n",
       "      <td>NaN</td>\n",
       "      <td>NaN</td>\n",
       "      <td>2017-02-28 01:00:19 +0000</td>\n",
       "      <td>&lt;a href=\"http://twitter.com/download/iphone\" r...</td>\n",
       "      <td>This is Ava. She just blasted off. Streamline ...</td>\n",
       "      <td>NaN</td>\n",
       "      <td>NaN</td>\n",
       "      <td>NaN</td>\n",
       "      <td>https://twitter.com/dog_rates/status/836380477...</td>\n",
       "      <td>12</td>\n",
       "      <td>10</td>\n",
       "      <td>Ava</td>\n",
       "      <td>None</td>\n",
       "      <td>None</td>\n",
       "      <td>pupper</td>\n",
       "      <td>None</td>\n",
       "    </tr>\n",
       "    <tr>\n",
       "      <th>853</th>\n",
       "      <td>765371061932261376</td>\n",
       "      <td>NaN</td>\n",
       "      <td>NaN</td>\n",
       "      <td>2016-08-16 02:14:15 +0000</td>\n",
       "      <td>&lt;a href=\"http://twitter.com/download/iphone\" r...</td>\n",
       "      <td>This is Louie. He's had a long day. Did a lot ...</td>\n",
       "      <td>NaN</td>\n",
       "      <td>NaN</td>\n",
       "      <td>NaN</td>\n",
       "      <td>https://twitter.com/dog_rates/status/765371061...</td>\n",
       "      <td>11</td>\n",
       "      <td>10</td>\n",
       "      <td>Louie</td>\n",
       "      <td>None</td>\n",
       "      <td>None</td>\n",
       "      <td>pupper</td>\n",
       "      <td>None</td>\n",
       "    </tr>\n",
       "    <tr>\n",
       "      <th>987</th>\n",
       "      <td>749036806121881602</td>\n",
       "      <td>NaN</td>\n",
       "      <td>NaN</td>\n",
       "      <td>2016-07-02 00:27:45 +0000</td>\n",
       "      <td>&lt;a href=\"http://twitter.com/download/iphone\" r...</td>\n",
       "      <td>This is Dietrich. He hops at random. Other dog...</td>\n",
       "      <td>NaN</td>\n",
       "      <td>NaN</td>\n",
       "      <td>NaN</td>\n",
       "      <td>https://twitter.com/dog_rates/status/749036806...</td>\n",
       "      <td>8</td>\n",
       "      <td>10</td>\n",
       "      <td>Dietrich</td>\n",
       "      <td>None</td>\n",
       "      <td>None</td>\n",
       "      <td>None</td>\n",
       "      <td>None</td>\n",
       "    </tr>\n",
       "    <tr>\n",
       "      <th>1266</th>\n",
       "      <td>709852847387627521</td>\n",
       "      <td>NaN</td>\n",
       "      <td>NaN</td>\n",
       "      <td>2016-03-15 21:24:41 +0000</td>\n",
       "      <td>&lt;a href=\"http://twitter.com/download/iphone\" r...</td>\n",
       "      <td>*lets out a tiny whimper and then collapses* ....</td>\n",
       "      <td>NaN</td>\n",
       "      <td>NaN</td>\n",
       "      <td>NaN</td>\n",
       "      <td>https://twitter.com/dog_rates/status/709852847...</td>\n",
       "      <td>12</td>\n",
       "      <td>10</td>\n",
       "      <td>None</td>\n",
       "      <td>None</td>\n",
       "      <td>None</td>\n",
       "      <td>None</td>\n",
       "      <td>None</td>\n",
       "    </tr>\n",
       "    <tr>\n",
       "      <th>2324</th>\n",
       "      <td>666421158376562688</td>\n",
       "      <td>NaN</td>\n",
       "      <td>NaN</td>\n",
       "      <td>2015-11-17 01:02:40 +0000</td>\n",
       "      <td>&lt;a href=\"http://twitter.com/download/iphone\" r...</td>\n",
       "      <td>*internally screaming* 12/10 https://t.co/YMcr...</td>\n",
       "      <td>NaN</td>\n",
       "      <td>NaN</td>\n",
       "      <td>NaN</td>\n",
       "      <td>https://twitter.com/dog_rates/status/666421158...</td>\n",
       "      <td>12</td>\n",
       "      <td>10</td>\n",
       "      <td>None</td>\n",
       "      <td>None</td>\n",
       "      <td>None</td>\n",
       "      <td>None</td>\n",
       "      <td>None</td>\n",
       "    </tr>\n",
       "    <tr>\n",
       "      <th>1416</th>\n",
       "      <td>698635131305795584</td>\n",
       "      <td>NaN</td>\n",
       "      <td>NaN</td>\n",
       "      <td>2016-02-13 22:29:29 +0000</td>\n",
       "      <td>&lt;a href=\"http://twitter.com/download/iphone\" r...</td>\n",
       "      <td>Here we are witnessing five Guatemalan Birch F...</td>\n",
       "      <td>NaN</td>\n",
       "      <td>NaN</td>\n",
       "      <td>NaN</td>\n",
       "      <td>https://twitter.com/dog_rates/status/698635131...</td>\n",
       "      <td>12</td>\n",
       "      <td>10</td>\n",
       "      <td>None</td>\n",
       "      <td>None</td>\n",
       "      <td>None</td>\n",
       "      <td>None</td>\n",
       "      <td>None</td>\n",
       "    </tr>\n",
       "    <tr>\n",
       "      <th>329</th>\n",
       "      <td>833479644947025920</td>\n",
       "      <td>NaN</td>\n",
       "      <td>NaN</td>\n",
       "      <td>2017-02-20 00:53:27 +0000</td>\n",
       "      <td>&lt;a href=\"http://twitter.com/download/iphone\" r...</td>\n",
       "      <td>This is Poppy. She just arrived. 13/10 would s...</td>\n",
       "      <td>NaN</td>\n",
       "      <td>NaN</td>\n",
       "      <td>NaN</td>\n",
       "      <td>https://twitter.com/dog_rates/status/833479644...</td>\n",
       "      <td>13</td>\n",
       "      <td>10</td>\n",
       "      <td>Poppy</td>\n",
       "      <td>None</td>\n",
       "      <td>None</td>\n",
       "      <td>None</td>\n",
       "      <td>None</td>\n",
       "    </tr>\n",
       "    <tr>\n",
       "      <th>988</th>\n",
       "      <td>748977405889503236</td>\n",
       "      <td>NaN</td>\n",
       "      <td>NaN</td>\n",
       "      <td>2016-07-01 20:31:43 +0000</td>\n",
       "      <td>&lt;a href=\"http://twitter.com/download/iphone\" r...</td>\n",
       "      <td>What jokester sent in a pic without a dog in i...</td>\n",
       "      <td>NaN</td>\n",
       "      <td>NaN</td>\n",
       "      <td>NaN</td>\n",
       "      <td>https://twitter.com/dog_rates/status/748977405...</td>\n",
       "      <td>10</td>\n",
       "      <td>10</td>\n",
       "      <td>not</td>\n",
       "      <td>None</td>\n",
       "      <td>None</td>\n",
       "      <td>None</td>\n",
       "      <td>None</td>\n",
       "    </tr>\n",
       "    <tr>\n",
       "      <th>531</th>\n",
       "      <td>808106460588765185</td>\n",
       "      <td>NaN</td>\n",
       "      <td>NaN</td>\n",
       "      <td>2016-12-12 00:29:28 +0000</td>\n",
       "      <td>&lt;a href=\"http://twitter.com/download/iphone\" r...</td>\n",
       "      <td>Here we have Burke (pupper) and Dexter (doggo)...</td>\n",
       "      <td>NaN</td>\n",
       "      <td>NaN</td>\n",
       "      <td>NaN</td>\n",
       "      <td>https://twitter.com/dog_rates/status/808106460...</td>\n",
       "      <td>12</td>\n",
       "      <td>10</td>\n",
       "      <td>None</td>\n",
       "      <td>doggo</td>\n",
       "      <td>None</td>\n",
       "      <td>pupper</td>\n",
       "      <td>None</td>\n",
       "    </tr>\n",
       "    <tr>\n",
       "      <th>196</th>\n",
       "      <td>854732716440526848</td>\n",
       "      <td>NaN</td>\n",
       "      <td>NaN</td>\n",
       "      <td>2017-04-19 16:25:34 +0000</td>\n",
       "      <td>&lt;a href=\"http://twitter.com/download/iphone\" r...</td>\n",
       "      <td>This is Marlee. She fetched a flower and immed...</td>\n",
       "      <td>NaN</td>\n",
       "      <td>NaN</td>\n",
       "      <td>NaN</td>\n",
       "      <td>https://twitter.com/dog_rates/status/854732716...</td>\n",
       "      <td>12</td>\n",
       "      <td>10</td>\n",
       "      <td>Marlee</td>\n",
       "      <td>None</td>\n",
       "      <td>None</td>\n",
       "      <td>None</td>\n",
       "      <td>None</td>\n",
       "    </tr>\n",
       "    <tr>\n",
       "      <th>2234</th>\n",
       "      <td>668190681446379520</td>\n",
       "      <td>NaN</td>\n",
       "      <td>NaN</td>\n",
       "      <td>2015-11-21 22:14:07 +0000</td>\n",
       "      <td>&lt;a href=\"http://twitter.com/download/iphone\" r...</td>\n",
       "      <td>This is Skittles. I would kidnap Skittles. Pin...</td>\n",
       "      <td>NaN</td>\n",
       "      <td>NaN</td>\n",
       "      <td>NaN</td>\n",
       "      <td>https://twitter.com/dog_rates/status/668190681...</td>\n",
       "      <td>12</td>\n",
       "      <td>10</td>\n",
       "      <td>Skittles</td>\n",
       "      <td>None</td>\n",
       "      <td>None</td>\n",
       "      <td>None</td>\n",
       "      <td>None</td>\n",
       "    </tr>\n",
       "    <tr>\n",
       "      <th>911</th>\n",
       "      <td>757597904299253760</td>\n",
       "      <td>NaN</td>\n",
       "      <td>NaN</td>\n",
       "      <td>2016-07-25 15:26:30 +0000</td>\n",
       "      <td>&lt;a href=\"http://twitter.com/download/iphone\" r...</td>\n",
       "      <td>RT @jon_hill987: @dog_rates There is a cunning...</td>\n",
       "      <td>7.575971e+17</td>\n",
       "      <td>280479778.0</td>\n",
       "      <td>2016-07-25 15:23:28 +0000</td>\n",
       "      <td>https://twitter.com/jon_hill987/status/7575971...</td>\n",
       "      <td>11</td>\n",
       "      <td>10</td>\n",
       "      <td>None</td>\n",
       "      <td>None</td>\n",
       "      <td>None</td>\n",
       "      <td>pupper</td>\n",
       "      <td>None</td>\n",
       "    </tr>\n",
       "  </tbody>\n",
       "</table>\n",
       "</div>"
      ],
      "text/plain": [
       "                tweet_id  in_reply_to_status_id  in_reply_to_user_id  \\\n",
       "1773  678255464182861824                    NaN                  NaN   \n",
       "2323  666428276349472768                    NaN                  NaN   \n",
       "877   760893934457552897                    NaN                  NaN   \n",
       "1156  724771698126512129                    NaN                  NaN   \n",
       "278   840268004936019968                    NaN                  NaN   \n",
       "1580  687127927494963200                    NaN                  NaN   \n",
       "1313  706904523814649856                    NaN                  NaN   \n",
       "1393  700029284593901568                    NaN                  NaN   \n",
       "304   836380477523124226                    NaN                  NaN   \n",
       "853   765371061932261376                    NaN                  NaN   \n",
       "987   749036806121881602                    NaN                  NaN   \n",
       "1266  709852847387627521                    NaN                  NaN   \n",
       "2324  666421158376562688                    NaN                  NaN   \n",
       "1416  698635131305795584                    NaN                  NaN   \n",
       "329   833479644947025920                    NaN                  NaN   \n",
       "988   748977405889503236                    NaN                  NaN   \n",
       "531   808106460588765185                    NaN                  NaN   \n",
       "196   854732716440526848                    NaN                  NaN   \n",
       "2234  668190681446379520                    NaN                  NaN   \n",
       "911   757597904299253760                    NaN                  NaN   \n",
       "\n",
       "                      timestamp  \\\n",
       "1773  2015-12-19 16:47:58 +0000   \n",
       "2323  2015-11-17 01:30:57 +0000   \n",
       "877   2016-08-03 17:43:45 +0000   \n",
       "1156  2016-04-26 01:26:53 +0000   \n",
       "278   2017-03-10 18:27:58 +0000   \n",
       "1580  2016-01-13 04:23:58 +0000   \n",
       "1313  2016-03-07 18:09:06 +0000   \n",
       "1393  2016-02-17 18:49:22 +0000   \n",
       "304   2017-02-28 01:00:19 +0000   \n",
       "853   2016-08-16 02:14:15 +0000   \n",
       "987   2016-07-02 00:27:45 +0000   \n",
       "1266  2016-03-15 21:24:41 +0000   \n",
       "2324  2015-11-17 01:02:40 +0000   \n",
       "1416  2016-02-13 22:29:29 +0000   \n",
       "329   2017-02-20 00:53:27 +0000   \n",
       "988   2016-07-01 20:31:43 +0000   \n",
       "531   2016-12-12 00:29:28 +0000   \n",
       "196   2017-04-19 16:25:34 +0000   \n",
       "2234  2015-11-21 22:14:07 +0000   \n",
       "911   2016-07-25 15:26:30 +0000   \n",
       "\n",
       "                                                 source  \\\n",
       "1773  <a href=\"http://twitter.com/download/iphone\" r...   \n",
       "2323  <a href=\"http://twitter.com/download/iphone\" r...   \n",
       "877   <a href=\"http://twitter.com/download/iphone\" r...   \n",
       "1156  <a href=\"http://twitter.com/download/iphone\" r...   \n",
       "278   <a href=\"http://twitter.com/download/iphone\" r...   \n",
       "1580  <a href=\"http://twitter.com/download/iphone\" r...   \n",
       "1313  <a href=\"http://vine.co\" rel=\"nofollow\">Vine -...   \n",
       "1393  <a href=\"http://twitter.com/download/iphone\" r...   \n",
       "304   <a href=\"http://twitter.com/download/iphone\" r...   \n",
       "853   <a href=\"http://twitter.com/download/iphone\" r...   \n",
       "987   <a href=\"http://twitter.com/download/iphone\" r...   \n",
       "1266  <a href=\"http://twitter.com/download/iphone\" r...   \n",
       "2324  <a href=\"http://twitter.com/download/iphone\" r...   \n",
       "1416  <a href=\"http://twitter.com/download/iphone\" r...   \n",
       "329   <a href=\"http://twitter.com/download/iphone\" r...   \n",
       "988   <a href=\"http://twitter.com/download/iphone\" r...   \n",
       "531   <a href=\"http://twitter.com/download/iphone\" r...   \n",
       "196   <a href=\"http://twitter.com/download/iphone\" r...   \n",
       "2234  <a href=\"http://twitter.com/download/iphone\" r...   \n",
       "911   <a href=\"http://twitter.com/download/iphone\" r...   \n",
       "\n",
       "                                                   text  retweeted_status_id  \\\n",
       "1773  This is Jessifer. She is a Bismoth Teriyaki. F...                  NaN   \n",
       "2323  Here we have an Austrian Pulitzer. Collectors ...                  NaN   \n",
       "877   This is Wishes. He has the day off. Daily stru...                  NaN   \n",
       "1156  Nothin better than a doggo and a sunset. 11/10...                  NaN   \n",
       "278   This is Monty. He makes instantly regrettable ...                  NaN   \n",
       "1580  Meet Gordon. He's an asshole. 9/10 would still...                  NaN   \n",
       "1313  Ever seen a dog pet another dog? Both 13/10 tr...                  NaN   \n",
       "1393  This is Coops. His ship is taking on water. So...                  NaN   \n",
       "304   This is Ava. She just blasted off. Streamline ...                  NaN   \n",
       "853   This is Louie. He's had a long day. Did a lot ...                  NaN   \n",
       "987   This is Dietrich. He hops at random. Other dog...                  NaN   \n",
       "1266  *lets out a tiny whimper and then collapses* ....                  NaN   \n",
       "2324  *internally screaming* 12/10 https://t.co/YMcr...                  NaN   \n",
       "1416  Here we are witnessing five Guatemalan Birch F...                  NaN   \n",
       "329   This is Poppy. She just arrived. 13/10 would s...                  NaN   \n",
       "988   What jokester sent in a pic without a dog in i...                  NaN   \n",
       "531   Here we have Burke (pupper) and Dexter (doggo)...                  NaN   \n",
       "196   This is Marlee. She fetched a flower and immed...                  NaN   \n",
       "2234  This is Skittles. I would kidnap Skittles. Pin...                  NaN   \n",
       "911   RT @jon_hill987: @dog_rates There is a cunning...         7.575971e+17   \n",
       "\n",
       "      retweeted_status_user_id retweeted_status_timestamp  \\\n",
       "1773                       NaN                        NaN   \n",
       "2323                       NaN                        NaN   \n",
       "877                        NaN                        NaN   \n",
       "1156                       NaN                        NaN   \n",
       "278                        NaN                        NaN   \n",
       "1580                       NaN                        NaN   \n",
       "1313                       NaN                        NaN   \n",
       "1393                       NaN                        NaN   \n",
       "304                        NaN                        NaN   \n",
       "853                        NaN                        NaN   \n",
       "987                        NaN                        NaN   \n",
       "1266                       NaN                        NaN   \n",
       "2324                       NaN                        NaN   \n",
       "1416                       NaN                        NaN   \n",
       "329                        NaN                        NaN   \n",
       "988                        NaN                        NaN   \n",
       "531                        NaN                        NaN   \n",
       "196                        NaN                        NaN   \n",
       "2234                       NaN                        NaN   \n",
       "911                280479778.0  2016-07-25 15:23:28 +0000   \n",
       "\n",
       "                                          expanded_urls  rating_numerator  \\\n",
       "1773  https://twitter.com/dog_rates/status/678255464...                 9   \n",
       "2323  https://twitter.com/dog_rates/status/666428276...                 7   \n",
       "877   https://twitter.com/dog_rates/status/760893934...                11   \n",
       "1156  https://twitter.com/dog_rates/status/724771698...                11   \n",
       "278   https://twitter.com/dog_rates/status/840268004...                12   \n",
       "1580  https://twitter.com/dog_rates/status/687127927...                 9   \n",
       "1313                      https://vine.co/v/iXQAm5Lrgrh                13   \n",
       "1393  https://twitter.com/dog_rates/status/700029284...                10   \n",
       "304   https://twitter.com/dog_rates/status/836380477...                12   \n",
       "853   https://twitter.com/dog_rates/status/765371061...                11   \n",
       "987   https://twitter.com/dog_rates/status/749036806...                 8   \n",
       "1266  https://twitter.com/dog_rates/status/709852847...                12   \n",
       "2324  https://twitter.com/dog_rates/status/666421158...                12   \n",
       "1416  https://twitter.com/dog_rates/status/698635131...                12   \n",
       "329   https://twitter.com/dog_rates/status/833479644...                13   \n",
       "988   https://twitter.com/dog_rates/status/748977405...                10   \n",
       "531   https://twitter.com/dog_rates/status/808106460...                12   \n",
       "196   https://twitter.com/dog_rates/status/854732716...                12   \n",
       "2234  https://twitter.com/dog_rates/status/668190681...                12   \n",
       "911   https://twitter.com/jon_hill987/status/7575971...                11   \n",
       "\n",
       "      rating_denominator      name  doggo floofer  pupper puppo  \n",
       "1773                  10  Jessifer   None    None    None  None  \n",
       "2323                  10      None   None    None    None  None  \n",
       "877                   10    Wishes  doggo    None    None  None  \n",
       "1156                  10      None  doggo    None    None  None  \n",
       "278                   10     Monty   None    None    None  None  \n",
       "1580                  10    Gordon   None    None    None  None  \n",
       "1313                  10      None   None    None    None  None  \n",
       "1393                  10     Coops   None    None    None  None  \n",
       "304                   10       Ava   None    None  pupper  None  \n",
       "853                   10     Louie   None    None  pupper  None  \n",
       "987                   10  Dietrich   None    None    None  None  \n",
       "1266                  10      None   None    None    None  None  \n",
       "2324                  10      None   None    None    None  None  \n",
       "1416                  10      None   None    None    None  None  \n",
       "329                   10     Poppy   None    None    None  None  \n",
       "988                   10       not   None    None    None  None  \n",
       "531                   10      None  doggo    None  pupper  None  \n",
       "196                   10    Marlee   None    None    None  None  \n",
       "2234                  10  Skittles   None    None    None  None  \n",
       "911                   10      None   None    None  pupper  None  "
      ]
     },
     "execution_count": 12,
     "metadata": {},
     "output_type": "execute_result"
    }
   ],
   "source": [
    "df_1.sample(20)"
   ]
  },
  {
   "cell_type": "code",
   "execution_count": 13,
   "metadata": {},
   "outputs": [
    {
     "data": {
      "text/html": [
       "<div>\n",
       "<style scoped>\n",
       "    .dataframe tbody tr th:only-of-type {\n",
       "        vertical-align: middle;\n",
       "    }\n",
       "\n",
       "    .dataframe tbody tr th {\n",
       "        vertical-align: top;\n",
       "    }\n",
       "\n",
       "    .dataframe thead th {\n",
       "        text-align: right;\n",
       "    }\n",
       "</style>\n",
       "<table border=\"1\" class=\"dataframe\">\n",
       "  <thead>\n",
       "    <tr style=\"text-align: right;\">\n",
       "      <th></th>\n",
       "      <th>tweet_id</th>\n",
       "      <th>in_reply_to_status_id</th>\n",
       "      <th>in_reply_to_user_id</th>\n",
       "      <th>retweeted_status_id</th>\n",
       "      <th>retweeted_status_user_id</th>\n",
       "      <th>rating_numerator</th>\n",
       "      <th>rating_denominator</th>\n",
       "    </tr>\n",
       "  </thead>\n",
       "  <tbody>\n",
       "    <tr>\n",
       "      <th>count</th>\n",
       "      <td>2.356000e+03</td>\n",
       "      <td>7.800000e+01</td>\n",
       "      <td>7.800000e+01</td>\n",
       "      <td>1.810000e+02</td>\n",
       "      <td>1.810000e+02</td>\n",
       "      <td>2356.000000</td>\n",
       "      <td>2356.000000</td>\n",
       "    </tr>\n",
       "    <tr>\n",
       "      <th>mean</th>\n",
       "      <td>7.427716e+17</td>\n",
       "      <td>7.455079e+17</td>\n",
       "      <td>2.014171e+16</td>\n",
       "      <td>7.720400e+17</td>\n",
       "      <td>1.241698e+16</td>\n",
       "      <td>13.126486</td>\n",
       "      <td>10.455433</td>\n",
       "    </tr>\n",
       "    <tr>\n",
       "      <th>std</th>\n",
       "      <td>6.856705e+16</td>\n",
       "      <td>7.582492e+16</td>\n",
       "      <td>1.252797e+17</td>\n",
       "      <td>6.236928e+16</td>\n",
       "      <td>9.599254e+16</td>\n",
       "      <td>45.876648</td>\n",
       "      <td>6.745237</td>\n",
       "    </tr>\n",
       "    <tr>\n",
       "      <th>min</th>\n",
       "      <td>6.660209e+17</td>\n",
       "      <td>6.658147e+17</td>\n",
       "      <td>1.185634e+07</td>\n",
       "      <td>6.661041e+17</td>\n",
       "      <td>7.832140e+05</td>\n",
       "      <td>0.000000</td>\n",
       "      <td>0.000000</td>\n",
       "    </tr>\n",
       "    <tr>\n",
       "      <th>25%</th>\n",
       "      <td>6.783989e+17</td>\n",
       "      <td>6.757419e+17</td>\n",
       "      <td>3.086374e+08</td>\n",
       "      <td>7.186315e+17</td>\n",
       "      <td>4.196984e+09</td>\n",
       "      <td>10.000000</td>\n",
       "      <td>10.000000</td>\n",
       "    </tr>\n",
       "    <tr>\n",
       "      <th>50%</th>\n",
       "      <td>7.196279e+17</td>\n",
       "      <td>7.038708e+17</td>\n",
       "      <td>4.196984e+09</td>\n",
       "      <td>7.804657e+17</td>\n",
       "      <td>4.196984e+09</td>\n",
       "      <td>11.000000</td>\n",
       "      <td>10.000000</td>\n",
       "    </tr>\n",
       "    <tr>\n",
       "      <th>75%</th>\n",
       "      <td>7.993373e+17</td>\n",
       "      <td>8.257804e+17</td>\n",
       "      <td>4.196984e+09</td>\n",
       "      <td>8.203146e+17</td>\n",
       "      <td>4.196984e+09</td>\n",
       "      <td>12.000000</td>\n",
       "      <td>10.000000</td>\n",
       "    </tr>\n",
       "    <tr>\n",
       "      <th>max</th>\n",
       "      <td>8.924206e+17</td>\n",
       "      <td>8.862664e+17</td>\n",
       "      <td>8.405479e+17</td>\n",
       "      <td>8.874740e+17</td>\n",
       "      <td>7.874618e+17</td>\n",
       "      <td>1776.000000</td>\n",
       "      <td>170.000000</td>\n",
       "    </tr>\n",
       "  </tbody>\n",
       "</table>\n",
       "</div>"
      ],
      "text/plain": [
       "           tweet_id  in_reply_to_status_id  in_reply_to_user_id  \\\n",
       "count  2.356000e+03           7.800000e+01         7.800000e+01   \n",
       "mean   7.427716e+17           7.455079e+17         2.014171e+16   \n",
       "std    6.856705e+16           7.582492e+16         1.252797e+17   \n",
       "min    6.660209e+17           6.658147e+17         1.185634e+07   \n",
       "25%    6.783989e+17           6.757419e+17         3.086374e+08   \n",
       "50%    7.196279e+17           7.038708e+17         4.196984e+09   \n",
       "75%    7.993373e+17           8.257804e+17         4.196984e+09   \n",
       "max    8.924206e+17           8.862664e+17         8.405479e+17   \n",
       "\n",
       "       retweeted_status_id  retweeted_status_user_id  rating_numerator  \\\n",
       "count         1.810000e+02              1.810000e+02       2356.000000   \n",
       "mean          7.720400e+17              1.241698e+16         13.126486   \n",
       "std           6.236928e+16              9.599254e+16         45.876648   \n",
       "min           6.661041e+17              7.832140e+05          0.000000   \n",
       "25%           7.186315e+17              4.196984e+09         10.000000   \n",
       "50%           7.804657e+17              4.196984e+09         11.000000   \n",
       "75%           8.203146e+17              4.196984e+09         12.000000   \n",
       "max           8.874740e+17              7.874618e+17       1776.000000   \n",
       "\n",
       "       rating_denominator  \n",
       "count         2356.000000  \n",
       "mean            10.455433  \n",
       "std              6.745237  \n",
       "min              0.000000  \n",
       "25%             10.000000  \n",
       "50%             10.000000  \n",
       "75%             10.000000  \n",
       "max            170.000000  "
      ]
     },
     "execution_count": 13,
     "metadata": {},
     "output_type": "execute_result"
    }
   ],
   "source": [
    "df_1.describe()"
   ]
  },
  {
   "cell_type": "code",
   "execution_count": 14,
   "metadata": {},
   "outputs": [
    {
     "data": {
      "text/plain": [
       "None        745\n",
       "a            55\n",
       "Charlie      12\n",
       "Oliver       11\n",
       "Lucy         11\n",
       "           ... \n",
       "Augie         1\n",
       "Fido          1\n",
       "Kona          1\n",
       "Jennifur      1\n",
       "Pepper        1\n",
       "Name: name, Length: 957, dtype: int64"
      ]
     },
     "execution_count": 14,
     "metadata": {},
     "output_type": "execute_result"
    }
   ],
   "source": [
    "df_1.name.value_counts()"
   ]
  },
  {
   "cell_type": "code",
   "execution_count": 15,
   "metadata": {},
   "outputs": [
    {
     "name": "stdout",
     "output_type": "stream",
     "text": [
      "<class 'pandas.core.frame.DataFrame'>\n",
      "RangeIndex: 2356 entries, 0 to 2355\n",
      "Data columns (total 17 columns):\n",
      " #   Column                      Non-Null Count  Dtype  \n",
      "---  ------                      --------------  -----  \n",
      " 0   tweet_id                    2356 non-null   int64  \n",
      " 1   in_reply_to_status_id       78 non-null     float64\n",
      " 2   in_reply_to_user_id         78 non-null     float64\n",
      " 3   timestamp                   2356 non-null   object \n",
      " 4   source                      2356 non-null   object \n",
      " 5   text                        2356 non-null   object \n",
      " 6   retweeted_status_id         181 non-null    float64\n",
      " 7   retweeted_status_user_id    181 non-null    float64\n",
      " 8   retweeted_status_timestamp  181 non-null    object \n",
      " 9   expanded_urls               2297 non-null   object \n",
      " 10  rating_numerator            2356 non-null   int64  \n",
      " 11  rating_denominator          2356 non-null   int64  \n",
      " 12  name                        2356 non-null   object \n",
      " 13  doggo                       2356 non-null   object \n",
      " 14  floofer                     2356 non-null   object \n",
      " 15  pupper                      2356 non-null   object \n",
      " 16  puppo                       2356 non-null   object \n",
      "dtypes: float64(4), int64(3), object(10)\n",
      "memory usage: 313.0+ KB\n"
     ]
    }
   ],
   "source": [
    "df_1.info()"
   ]
  },
  {
   "cell_type": "code",
   "execution_count": 16,
   "metadata": {},
   "outputs": [
    {
     "data": {
      "text/html": [
       "<div>\n",
       "<style scoped>\n",
       "    .dataframe tbody tr th:only-of-type {\n",
       "        vertical-align: middle;\n",
       "    }\n",
       "\n",
       "    .dataframe tbody tr th {\n",
       "        vertical-align: top;\n",
       "    }\n",
       "\n",
       "    .dataframe thead th {\n",
       "        text-align: right;\n",
       "    }\n",
       "</style>\n",
       "<table border=\"1\" class=\"dataframe\">\n",
       "  <thead>\n",
       "    <tr style=\"text-align: right;\">\n",
       "      <th></th>\n",
       "      <th>tweet_id</th>\n",
       "      <th>jpg_url</th>\n",
       "      <th>img_num</th>\n",
       "      <th>p1</th>\n",
       "      <th>p1_conf</th>\n",
       "      <th>p1_dog</th>\n",
       "      <th>p2</th>\n",
       "      <th>p2_conf</th>\n",
       "      <th>p2_dog</th>\n",
       "      <th>p3</th>\n",
       "      <th>p3_conf</th>\n",
       "      <th>p3_dog</th>\n",
       "    </tr>\n",
       "  </thead>\n",
       "  <tbody>\n",
       "    <tr>\n",
       "      <th>509</th>\n",
       "      <td>676101918813499392</td>\n",
       "      <td>https://pbs.twimg.com/media/CWH_FTgWIAAwOUy.jpg</td>\n",
       "      <td>1</td>\n",
       "      <td>Shih-Tzu</td>\n",
       "      <td>0.225848</td>\n",
       "      <td>True</td>\n",
       "      <td>Norfolk_terrier</td>\n",
       "      <td>0.186873</td>\n",
       "      <td>True</td>\n",
       "      <td>Irish_terrier</td>\n",
       "      <td>0.106987</td>\n",
       "      <td>True</td>\n",
       "    </tr>\n",
       "    <tr>\n",
       "      <th>1156</th>\n",
       "      <td>733460102733135873</td>\n",
       "      <td>https://pbs.twimg.com/media/Ci3GDeyUoAAKOxn.jpg</td>\n",
       "      <td>1</td>\n",
       "      <td>chow</td>\n",
       "      <td>0.931275</td>\n",
       "      <td>True</td>\n",
       "      <td>beaver</td>\n",
       "      <td>0.028831</td>\n",
       "      <td>False</td>\n",
       "      <td>dhole</td>\n",
       "      <td>0.017379</td>\n",
       "      <td>False</td>\n",
       "    </tr>\n",
       "    <tr>\n",
       "      <th>810</th>\n",
       "      <td>692187005137076224</td>\n",
       "      <td>https://pbs.twimg.com/media/CZskaEIWIAUeTr5.jpg</td>\n",
       "      <td>2</td>\n",
       "      <td>Siberian_husky</td>\n",
       "      <td>0.810592</td>\n",
       "      <td>True</td>\n",
       "      <td>malamute</td>\n",
       "      <td>0.119745</td>\n",
       "      <td>True</td>\n",
       "      <td>Eskimo_dog</td>\n",
       "      <td>0.029265</td>\n",
       "      <td>True</td>\n",
       "    </tr>\n",
       "    <tr>\n",
       "      <th>369</th>\n",
       "      <td>672970152493887488</td>\n",
       "      <td>https://pbs.twimg.com/media/CVbeyGUU8AEq300.jpg</td>\n",
       "      <td>1</td>\n",
       "      <td>leaf_beetle</td>\n",
       "      <td>0.340154</td>\n",
       "      <td>False</td>\n",
       "      <td>rhinoceros_beetle</td>\n",
       "      <td>0.139698</td>\n",
       "      <td>False</td>\n",
       "      <td>crayfish</td>\n",
       "      <td>0.058034</td>\n",
       "      <td>False</td>\n",
       "    </tr>\n",
       "    <tr>\n",
       "      <th>355</th>\n",
       "      <td>672594978741354496</td>\n",
       "      <td>https://pbs.twimg.com/media/CVWJkJXWsAInlZl.jpg</td>\n",
       "      <td>1</td>\n",
       "      <td>Great_Pyrenees</td>\n",
       "      <td>0.755945</td>\n",
       "      <td>True</td>\n",
       "      <td>Old_English_sheepdog</td>\n",
       "      <td>0.082337</td>\n",
       "      <td>True</td>\n",
       "      <td>Afghan_hound</td>\n",
       "      <td>0.027037</td>\n",
       "      <td>True</td>\n",
       "    </tr>\n",
       "  </tbody>\n",
       "</table>\n",
       "</div>"
      ],
      "text/plain": [
       "                tweet_id                                          jpg_url  \\\n",
       "509   676101918813499392  https://pbs.twimg.com/media/CWH_FTgWIAAwOUy.jpg   \n",
       "1156  733460102733135873  https://pbs.twimg.com/media/Ci3GDeyUoAAKOxn.jpg   \n",
       "810   692187005137076224  https://pbs.twimg.com/media/CZskaEIWIAUeTr5.jpg   \n",
       "369   672970152493887488  https://pbs.twimg.com/media/CVbeyGUU8AEq300.jpg   \n",
       "355   672594978741354496  https://pbs.twimg.com/media/CVWJkJXWsAInlZl.jpg   \n",
       "\n",
       "      img_num              p1   p1_conf  p1_dog                    p2  \\\n",
       "509         1        Shih-Tzu  0.225848    True       Norfolk_terrier   \n",
       "1156        1            chow  0.931275    True                beaver   \n",
       "810         2  Siberian_husky  0.810592    True              malamute   \n",
       "369         1     leaf_beetle  0.340154   False     rhinoceros_beetle   \n",
       "355         1  Great_Pyrenees  0.755945    True  Old_English_sheepdog   \n",
       "\n",
       "       p2_conf  p2_dog             p3   p3_conf  p3_dog  \n",
       "509   0.186873    True  Irish_terrier  0.106987    True  \n",
       "1156  0.028831   False          dhole  0.017379   False  \n",
       "810   0.119745    True     Eskimo_dog  0.029265    True  \n",
       "369   0.139698   False       crayfish  0.058034   False  \n",
       "355   0.082337    True   Afghan_hound  0.027037    True  "
      ]
     },
     "execution_count": 16,
     "metadata": {},
     "output_type": "execute_result"
    }
   ],
   "source": [
    "df_2.sample(5)"
   ]
  },
  {
   "cell_type": "code",
   "execution_count": 17,
   "metadata": {},
   "outputs": [
    {
     "data": {
      "text/html": [
       "<div>\n",
       "<style scoped>\n",
       "    .dataframe tbody tr th:only-of-type {\n",
       "        vertical-align: middle;\n",
       "    }\n",
       "\n",
       "    .dataframe tbody tr th {\n",
       "        vertical-align: top;\n",
       "    }\n",
       "\n",
       "    .dataframe thead th {\n",
       "        text-align: right;\n",
       "    }\n",
       "</style>\n",
       "<table border=\"1\" class=\"dataframe\">\n",
       "  <thead>\n",
       "    <tr style=\"text-align: right;\">\n",
       "      <th></th>\n",
       "      <th>tweet_id</th>\n",
       "      <th>img_num</th>\n",
       "      <th>p1_conf</th>\n",
       "      <th>p2_conf</th>\n",
       "      <th>p3_conf</th>\n",
       "    </tr>\n",
       "  </thead>\n",
       "  <tbody>\n",
       "    <tr>\n",
       "      <th>count</th>\n",
       "      <td>2.075000e+03</td>\n",
       "      <td>2075.000000</td>\n",
       "      <td>2075.000000</td>\n",
       "      <td>2.075000e+03</td>\n",
       "      <td>2.075000e+03</td>\n",
       "    </tr>\n",
       "    <tr>\n",
       "      <th>mean</th>\n",
       "      <td>7.384514e+17</td>\n",
       "      <td>1.203855</td>\n",
       "      <td>0.594548</td>\n",
       "      <td>1.345886e-01</td>\n",
       "      <td>6.032417e-02</td>\n",
       "    </tr>\n",
       "    <tr>\n",
       "      <th>std</th>\n",
       "      <td>6.785203e+16</td>\n",
       "      <td>0.561875</td>\n",
       "      <td>0.271174</td>\n",
       "      <td>1.006657e-01</td>\n",
       "      <td>5.090593e-02</td>\n",
       "    </tr>\n",
       "    <tr>\n",
       "      <th>min</th>\n",
       "      <td>6.660209e+17</td>\n",
       "      <td>1.000000</td>\n",
       "      <td>0.044333</td>\n",
       "      <td>1.011300e-08</td>\n",
       "      <td>1.740170e-10</td>\n",
       "    </tr>\n",
       "    <tr>\n",
       "      <th>25%</th>\n",
       "      <td>6.764835e+17</td>\n",
       "      <td>1.000000</td>\n",
       "      <td>0.364412</td>\n",
       "      <td>5.388625e-02</td>\n",
       "      <td>1.622240e-02</td>\n",
       "    </tr>\n",
       "    <tr>\n",
       "      <th>50%</th>\n",
       "      <td>7.119988e+17</td>\n",
       "      <td>1.000000</td>\n",
       "      <td>0.588230</td>\n",
       "      <td>1.181810e-01</td>\n",
       "      <td>4.944380e-02</td>\n",
       "    </tr>\n",
       "    <tr>\n",
       "      <th>75%</th>\n",
       "      <td>7.932034e+17</td>\n",
       "      <td>1.000000</td>\n",
       "      <td>0.843855</td>\n",
       "      <td>1.955655e-01</td>\n",
       "      <td>9.180755e-02</td>\n",
       "    </tr>\n",
       "    <tr>\n",
       "      <th>max</th>\n",
       "      <td>8.924206e+17</td>\n",
       "      <td>4.000000</td>\n",
       "      <td>1.000000</td>\n",
       "      <td>4.880140e-01</td>\n",
       "      <td>2.734190e-01</td>\n",
       "    </tr>\n",
       "  </tbody>\n",
       "</table>\n",
       "</div>"
      ],
      "text/plain": [
       "           tweet_id      img_num      p1_conf       p2_conf       p3_conf\n",
       "count  2.075000e+03  2075.000000  2075.000000  2.075000e+03  2.075000e+03\n",
       "mean   7.384514e+17     1.203855     0.594548  1.345886e-01  6.032417e-02\n",
       "std    6.785203e+16     0.561875     0.271174  1.006657e-01  5.090593e-02\n",
       "min    6.660209e+17     1.000000     0.044333  1.011300e-08  1.740170e-10\n",
       "25%    6.764835e+17     1.000000     0.364412  5.388625e-02  1.622240e-02\n",
       "50%    7.119988e+17     1.000000     0.588230  1.181810e-01  4.944380e-02\n",
       "75%    7.932034e+17     1.000000     0.843855  1.955655e-01  9.180755e-02\n",
       "max    8.924206e+17     4.000000     1.000000  4.880140e-01  2.734190e-01"
      ]
     },
     "execution_count": 17,
     "metadata": {},
     "output_type": "execute_result"
    }
   ],
   "source": [
    "df_2.describe()"
   ]
  },
  {
   "cell_type": "code",
   "execution_count": 18,
   "metadata": {},
   "outputs": [
    {
     "data": {
      "text/plain": [
       "True     1499\n",
       "False     576\n",
       "Name: p3_dog, dtype: int64"
      ]
     },
     "execution_count": 18,
     "metadata": {},
     "output_type": "execute_result"
    }
   ],
   "source": [
    "df_2.p3_dog.value_counts()"
   ]
  },
  {
   "cell_type": "code",
   "execution_count": 19,
   "metadata": {},
   "outputs": [
    {
     "name": "stdout",
     "output_type": "stream",
     "text": [
      "<class 'pandas.core.frame.DataFrame'>\n",
      "RangeIndex: 2075 entries, 0 to 2074\n",
      "Data columns (total 12 columns):\n",
      " #   Column    Non-Null Count  Dtype  \n",
      "---  ------    --------------  -----  \n",
      " 0   tweet_id  2075 non-null   int64  \n",
      " 1   jpg_url   2075 non-null   object \n",
      " 2   img_num   2075 non-null   int64  \n",
      " 3   p1        2075 non-null   object \n",
      " 4   p1_conf   2075 non-null   float64\n",
      " 5   p1_dog    2075 non-null   bool   \n",
      " 6   p2        2075 non-null   object \n",
      " 7   p2_conf   2075 non-null   float64\n",
      " 8   p2_dog    2075 non-null   bool   \n",
      " 9   p3        2075 non-null   object \n",
      " 10  p3_conf   2075 non-null   float64\n",
      " 11  p3_dog    2075 non-null   bool   \n",
      "dtypes: bool(3), float64(3), int64(2), object(4)\n",
      "memory usage: 152.1+ KB\n"
     ]
    }
   ],
   "source": [
    "df_2.info()"
   ]
  },
  {
   "cell_type": "code",
   "execution_count": 20,
   "metadata": {},
   "outputs": [
    {
     "data": {
      "text/html": [
       "<div>\n",
       "<style scoped>\n",
       "    .dataframe tbody tr th:only-of-type {\n",
       "        vertical-align: middle;\n",
       "    }\n",
       "\n",
       "    .dataframe tbody tr th {\n",
       "        vertical-align: top;\n",
       "    }\n",
       "\n",
       "    .dataframe thead th {\n",
       "        text-align: right;\n",
       "    }\n",
       "</style>\n",
       "<table border=\"1\" class=\"dataframe\">\n",
       "  <thead>\n",
       "    <tr style=\"text-align: right;\">\n",
       "      <th></th>\n",
       "      <th>Unnamed: 0</th>\n",
       "      <th>id</th>\n",
       "      <th>retweet_count</th>\n",
       "      <th>favorite_count</th>\n",
       "      <th>followers_count</th>\n",
       "    </tr>\n",
       "  </thead>\n",
       "  <tbody>\n",
       "    <tr>\n",
       "      <th>1775</th>\n",
       "      <td>1775</td>\n",
       "      <td>676975532580409345</td>\n",
       "      <td>1016</td>\n",
       "      <td>2645</td>\n",
       "      <td>8941422</td>\n",
       "    </tr>\n",
       "    <tr>\n",
       "      <th>453</th>\n",
       "      <td>453</td>\n",
       "      <td>816829038950027264</td>\n",
       "      <td>4633</td>\n",
       "      <td>0</td>\n",
       "      <td>8941397</td>\n",
       "    </tr>\n",
       "    <tr>\n",
       "      <th>200</th>\n",
       "      <td>200</td>\n",
       "      <td>852311364735569921</td>\n",
       "      <td>9360</td>\n",
       "      <td>31617</td>\n",
       "      <td>8941394</td>\n",
       "    </tr>\n",
       "    <tr>\n",
       "      <th>548</th>\n",
       "      <td>548</td>\n",
       "      <td>802265048156610565</td>\n",
       "      <td>1363</td>\n",
       "      <td>6877</td>\n",
       "      <td>8941398</td>\n",
       "    </tr>\n",
       "    <tr>\n",
       "      <th>1286</th>\n",
       "      <td>1286</td>\n",
       "      <td>707038192327901184</td>\n",
       "      <td>756</td>\n",
       "      <td>2116</td>\n",
       "      <td>8941417</td>\n",
       "    </tr>\n",
       "  </tbody>\n",
       "</table>\n",
       "</div>"
      ],
      "text/plain": [
       "      Unnamed: 0                  id  retweet_count  favorite_count  \\\n",
       "1775        1775  676975532580409345           1016            2645   \n",
       "453          453  816829038950027264           4633               0   \n",
       "200          200  852311364735569921           9360           31617   \n",
       "548          548  802265048156610565           1363            6877   \n",
       "1286        1286  707038192327901184            756            2116   \n",
       "\n",
       "      followers_count  \n",
       "1775          8941422  \n",
       "453           8941397  \n",
       "200           8941394  \n",
       "548           8941398  \n",
       "1286          8941417  "
      ]
     },
     "execution_count": 20,
     "metadata": {},
     "output_type": "execute_result"
    }
   ],
   "source": [
    "df_3.sample(5)"
   ]
  },
  {
   "cell_type": "code",
   "execution_count": 21,
   "metadata": {},
   "outputs": [
    {
     "data": {
      "text/html": [
       "<div>\n",
       "<style scoped>\n",
       "    .dataframe tbody tr th:only-of-type {\n",
       "        vertical-align: middle;\n",
       "    }\n",
       "\n",
       "    .dataframe tbody tr th {\n",
       "        vertical-align: top;\n",
       "    }\n",
       "\n",
       "    .dataframe thead th {\n",
       "        text-align: right;\n",
       "    }\n",
       "</style>\n",
       "<table border=\"1\" class=\"dataframe\">\n",
       "  <thead>\n",
       "    <tr style=\"text-align: right;\">\n",
       "      <th></th>\n",
       "      <th>Unnamed: 0</th>\n",
       "      <th>id</th>\n",
       "      <th>retweet_count</th>\n",
       "      <th>favorite_count</th>\n",
       "      <th>followers_count</th>\n",
       "    </tr>\n",
       "  </thead>\n",
       "  <tbody>\n",
       "    <tr>\n",
       "      <th>count</th>\n",
       "      <td>2330.000000</td>\n",
       "      <td>2.330000e+03</td>\n",
       "      <td>2330.000000</td>\n",
       "      <td>2330.000000</td>\n",
       "      <td>2.330000e+03</td>\n",
       "    </tr>\n",
       "    <tr>\n",
       "      <th>mean</th>\n",
       "      <td>1164.500000</td>\n",
       "      <td>7.419381e+17</td>\n",
       "      <td>2610.340343</td>\n",
       "      <td>7355.005150</td>\n",
       "      <td>8.941412e+06</td>\n",
       "    </tr>\n",
       "    <tr>\n",
       "      <th>std</th>\n",
       "      <td>672.757386</td>\n",
       "      <td>6.823077e+16</td>\n",
       "      <td>4415.199850</td>\n",
       "      <td>11421.365768</td>\n",
       "      <td>1.428663e+01</td>\n",
       "    </tr>\n",
       "    <tr>\n",
       "      <th>min</th>\n",
       "      <td>0.000000</td>\n",
       "      <td>6.660209e+17</td>\n",
       "      <td>1.000000</td>\n",
       "      <td>0.000000</td>\n",
       "      <td>8.941392e+06</td>\n",
       "    </tr>\n",
       "    <tr>\n",
       "      <th>25%</th>\n",
       "      <td>582.250000</td>\n",
       "      <td>6.782926e+17</td>\n",
       "      <td>529.250000</td>\n",
       "      <td>1279.500000</td>\n",
       "      <td>8.941398e+06</td>\n",
       "    </tr>\n",
       "    <tr>\n",
       "      <th>50%</th>\n",
       "      <td>1164.500000</td>\n",
       "      <td>7.183508e+17</td>\n",
       "      <td>1219.500000</td>\n",
       "      <td>3191.500000</td>\n",
       "      <td>8.941415e+06</td>\n",
       "    </tr>\n",
       "    <tr>\n",
       "      <th>75%</th>\n",
       "      <td>1746.750000</td>\n",
       "      <td>7.986712e+17</td>\n",
       "      <td>3028.750000</td>\n",
       "      <td>8998.000000</td>\n",
       "      <td>8.941422e+06</td>\n",
       "    </tr>\n",
       "    <tr>\n",
       "      <th>max</th>\n",
       "      <td>2329.000000</td>\n",
       "      <td>8.924206e+17</td>\n",
       "      <td>74967.000000</td>\n",
       "      <td>151537.000000</td>\n",
       "      <td>8.941503e+06</td>\n",
       "    </tr>\n",
       "  </tbody>\n",
       "</table>\n",
       "</div>"
      ],
      "text/plain": [
       "        Unnamed: 0            id  retweet_count  favorite_count  \\\n",
       "count  2330.000000  2.330000e+03    2330.000000     2330.000000   \n",
       "mean   1164.500000  7.419381e+17    2610.340343     7355.005150   \n",
       "std     672.757386  6.823077e+16    4415.199850    11421.365768   \n",
       "min       0.000000  6.660209e+17       1.000000        0.000000   \n",
       "25%     582.250000  6.782926e+17     529.250000     1279.500000   \n",
       "50%    1164.500000  7.183508e+17    1219.500000     3191.500000   \n",
       "75%    1746.750000  7.986712e+17    3028.750000     8998.000000   \n",
       "max    2329.000000  8.924206e+17   74967.000000   151537.000000   \n",
       "\n",
       "       followers_count  \n",
       "count     2.330000e+03  \n",
       "mean      8.941412e+06  \n",
       "std       1.428663e+01  \n",
       "min       8.941392e+06  \n",
       "25%       8.941398e+06  \n",
       "50%       8.941415e+06  \n",
       "75%       8.941422e+06  \n",
       "max       8.941503e+06  "
      ]
     },
     "execution_count": 21,
     "metadata": {},
     "output_type": "execute_result"
    }
   ],
   "source": [
    "df_3.describe()"
   ]
  },
  {
   "cell_type": "code",
   "execution_count": 22,
   "metadata": {},
   "outputs": [
    {
     "data": {
      "text/plain": [
       "8941429    220\n",
       "8941394    179\n",
       "8941406    178\n",
       "8941419    159\n",
       "8941422    142\n",
       "8941418    139\n",
       "8941393    125\n",
       "8941395    105\n",
       "8941397     85\n",
       "8941421     83\n",
       "8941416     82\n",
       "8941417     74\n",
       "8941408     73\n",
       "8941430     73\n",
       "8941404     70\n",
       "8941398     59\n",
       "8941400     48\n",
       "8941399     48\n",
       "8941427     42\n",
       "8941401     38\n",
       "8941409     35\n",
       "8941420     29\n",
       "8941415     28\n",
       "8941396     27\n",
       "8941425     25\n",
       "8941426     24\n",
       "8941414     22\n",
       "8941424     18\n",
       "8941413     17\n",
       "8941428     15\n",
       "8941403     13\n",
       "8941423     11\n",
       "8941392      6\n",
       "8941405      6\n",
       "8941402      6\n",
       "8941467      3\n",
       "8941407      3\n",
       "8941501      2\n",
       "8941431      2\n",
       "8941495      2\n",
       "8941503      2\n",
       "8941472      2\n",
       "8941480      2\n",
       "8941490      2\n",
       "8941469      1\n",
       "8941473      1\n",
       "8941491      1\n",
       "8941492      1\n",
       "8941468      1\n",
       "8941502      1\n",
       "Name: followers_count, dtype: int64"
      ]
     },
     "execution_count": 22,
     "metadata": {},
     "output_type": "execute_result"
    }
   ],
   "source": [
    "df_3.followers_count.value_counts()"
   ]
  },
  {
   "cell_type": "markdown",
   "metadata": {},
   "source": [
    "## Quality issues:\n",
    "### df_1 :\n",
    "- As per the project requirements; only original ratings (no retweets) that have images should be included\n",
    "- Columns of retweeted_status_id and its related data have entries which not part of our analysis.\n",
    "- Inaccurate data in name 'a' represented 55 times.\n",
    "- Inaccurate data in rating_nominator and df_denominator.\n",
    "- Null values reprsened as \"None\" in columns doggo, floofer, pupper, puppo.\n",
    "- Invalid dtype in timestamp represented as object type.\n",
    "- Column tweet_id represented as int64 across all data set.\n",
    "### df_2 :\n",
    "- Columns of predictions have lables represented as letters.\n",
    "- Column 'p1_dog' have 543 false prediction, p2_dog have 522 false prediction, p3_dog have 576 false prediction. \n",
    "- Column 'p1' have invalid data like(china_cabinet, shield, orange, walking_stick,...etc).\n",
    "- Column 'p2' have invalid data like(ice_lolly, Japanese_spaniel, china_cabinet, necklace,...etc).\n",
    "- Column 'p3' have invalid data like(kimono, cab, axolotl, passenger_car, tripod, grocery_store,...etc).\n",
    "## Tidness issues:\n",
    "### df_1:\n",
    "- Variable dog stages have four columns.\n",
    "### df_2:\n",
    "- Variable prediction have three columns.\n",
    "### df_3:\n",
    "- Table df3_clean have same observation unit that in df1_clean.\n",
    "- Column name id in stead of tweet_id."
   ]
  },
  {
   "cell_type": "markdown",
   "metadata": {},
   "source": [
    "# Cleaning"
   ]
  },
  {
   "cell_type": "markdown",
   "metadata": {},
   "source": [
    "befor cleaning copying DataFrames in pandas is done using `.copy` method"
   ]
  },
  {
   "cell_type": "code",
   "execution_count": 23,
   "metadata": {},
   "outputs": [
    {
     "data": {
      "text/plain": [
       "(2356, 17)"
      ]
     },
     "execution_count": 23,
     "metadata": {},
     "output_type": "execute_result"
    }
   ],
   "source": [
    "df1_clean = df_1.copy()\n",
    "df1_clean.shape"
   ]
  },
  {
   "cell_type": "code",
   "execution_count": 24,
   "metadata": {},
   "outputs": [
    {
     "data": {
      "text/plain": [
       "(2075, 12)"
      ]
     },
     "execution_count": 24,
     "metadata": {},
     "output_type": "execute_result"
    }
   ],
   "source": [
    "df2_clean = df_2.copy()\n",
    "df2_clean.shape"
   ]
  },
  {
   "cell_type": "code",
   "execution_count": 25,
   "metadata": {},
   "outputs": [
    {
     "data": {
      "text/plain": [
       "(2330, 5)"
      ]
     },
     "execution_count": 25,
     "metadata": {},
     "output_type": "execute_result"
    }
   ],
   "source": [
    "df3_clean = df_3.copy()\n",
    "df3_clean.shape"
   ]
  },
  {
   "cell_type": "markdown",
   "metadata": {},
   "source": [
    "### Define\n",
    "##### df3_clean Column name 'id' in stead of 'tweet_id'."
   ]
  },
  {
   "cell_type": "code",
   "execution_count": 26,
   "metadata": {},
   "outputs": [],
   "source": [
    "df3_clean.rename(columns={'id': 'tweet_id'},inplace =True)"
   ]
  },
  {
   "cell_type": "markdown",
   "metadata": {},
   "source": [
    "### Test"
   ]
  },
  {
   "cell_type": "code",
   "execution_count": 27,
   "metadata": {},
   "outputs": [
    {
     "data": {
      "text/html": [
       "<div>\n",
       "<style scoped>\n",
       "    .dataframe tbody tr th:only-of-type {\n",
       "        vertical-align: middle;\n",
       "    }\n",
       "\n",
       "    .dataframe tbody tr th {\n",
       "        vertical-align: top;\n",
       "    }\n",
       "\n",
       "    .dataframe thead th {\n",
       "        text-align: right;\n",
       "    }\n",
       "</style>\n",
       "<table border=\"1\" class=\"dataframe\">\n",
       "  <thead>\n",
       "    <tr style=\"text-align: right;\">\n",
       "      <th></th>\n",
       "      <th>Unnamed: 0</th>\n",
       "      <th>tweet_id</th>\n",
       "      <th>retweet_count</th>\n",
       "      <th>favorite_count</th>\n",
       "      <th>followers_count</th>\n",
       "    </tr>\n",
       "  </thead>\n",
       "  <tbody>\n",
       "    <tr>\n",
       "      <th>792</th>\n",
       "      <td>792</td>\n",
       "      <td>771136648247640064</td>\n",
       "      <td>2857</td>\n",
       "      <td>8987</td>\n",
       "      <td>8941404</td>\n",
       "    </tr>\n",
       "  </tbody>\n",
       "</table>\n",
       "</div>"
      ],
      "text/plain": [
       "     Unnamed: 0            tweet_id  retweet_count  favorite_count  \\\n",
       "792         792  771136648247640064           2857            8987   \n",
       "\n",
       "     followers_count  \n",
       "792          8941404  "
      ]
     },
     "execution_count": 27,
     "metadata": {},
     "output_type": "execute_result"
    }
   ],
   "source": [
    "df3_clean.sample()"
   ]
  },
  {
   "cell_type": "markdown",
   "metadata": {},
   "source": [
    "### Define\n",
    "##### Null values reprsened as \"None\" in columns doggo, floofer, pupper, puppo.\n",
    "use replace function to replace it with\"\""
   ]
  },
  {
   "cell_type": "code",
   "execution_count": 28,
   "metadata": {},
   "outputs": [],
   "source": [
    "df1_clean.iloc[:,-4:] = df1_clean.iloc[:,-4:].replace('None','')"
   ]
  },
  {
   "cell_type": "markdown",
   "metadata": {},
   "source": [
    "### Test"
   ]
  },
  {
   "cell_type": "code",
   "execution_count": 29,
   "metadata": {},
   "outputs": [
    {
     "name": "stdout",
     "output_type": "stream",
     "text": [
      "(2356, 17)\n"
     ]
    },
    {
     "data": {
      "text/html": [
       "<div>\n",
       "<style scoped>\n",
       "    .dataframe tbody tr th:only-of-type {\n",
       "        vertical-align: middle;\n",
       "    }\n",
       "\n",
       "    .dataframe tbody tr th {\n",
       "        vertical-align: top;\n",
       "    }\n",
       "\n",
       "    .dataframe thead th {\n",
       "        text-align: right;\n",
       "    }\n",
       "</style>\n",
       "<table border=\"1\" class=\"dataframe\">\n",
       "  <thead>\n",
       "    <tr style=\"text-align: right;\">\n",
       "      <th></th>\n",
       "      <th>doggo</th>\n",
       "      <th>pupper</th>\n",
       "      <th>floofer</th>\n",
       "      <th>puppo</th>\n",
       "    </tr>\n",
       "  </thead>\n",
       "  <tbody>\n",
       "    <tr>\n",
       "      <th>8</th>\n",
       "      <td></td>\n",
       "      <td></td>\n",
       "      <td></td>\n",
       "      <td></td>\n",
       "    </tr>\n",
       "    <tr>\n",
       "      <th>1154</th>\n",
       "      <td></td>\n",
       "      <td></td>\n",
       "      <td></td>\n",
       "      <td></td>\n",
       "    </tr>\n",
       "    <tr>\n",
       "      <th>1153</th>\n",
       "      <td></td>\n",
       "      <td></td>\n",
       "      <td></td>\n",
       "      <td></td>\n",
       "    </tr>\n",
       "    <tr>\n",
       "      <th>2276</th>\n",
       "      <td></td>\n",
       "      <td></td>\n",
       "      <td></td>\n",
       "      <td></td>\n",
       "    </tr>\n",
       "    <tr>\n",
       "      <th>339</th>\n",
       "      <td>doggo</td>\n",
       "      <td></td>\n",
       "      <td></td>\n",
       "      <td></td>\n",
       "    </tr>\n",
       "  </tbody>\n",
       "</table>\n",
       "</div>"
      ],
      "text/plain": [
       "      doggo pupper floofer puppo\n",
       "8                               \n",
       "1154                            \n",
       "1153                            \n",
       "2276                            \n",
       "339   doggo                     "
      ]
     },
     "execution_count": 29,
     "metadata": {},
     "output_type": "execute_result"
    }
   ],
   "source": [
    "print(df1_clean.shape)\n",
    "df1_clean.loc[:,['doggo','pupper','floofer','puppo']].sample(5)"
   ]
  },
  {
   "cell_type": "markdown",
   "metadata": {},
   "source": [
    "### Define\n",
    "##### Variable dog stages have four columns\n",
    "- creat a new column 'dog_stages' that contain all stages of every dog.\n",
    "-  drop the old columns"
   ]
  },
  {
   "cell_type": "code",
   "execution_count": 30,
   "metadata": {},
   "outputs": [],
   "source": [
    "df1_clean['dog_stages'] = df1_clean.doggo + df1_clean.floofer + df1_clean.pupper + df1_clean.puppo"
   ]
  },
  {
   "cell_type": "code",
   "execution_count": 31,
   "metadata": {},
   "outputs": [],
   "source": [
    "df1_clean.drop(columns =['doggo', 'floofer', 'pupper', 'puppo'] , inplace = True)"
   ]
  },
  {
   "cell_type": "markdown",
   "metadata": {},
   "source": [
    "### Test"
   ]
  },
  {
   "cell_type": "code",
   "execution_count": 32,
   "metadata": {},
   "outputs": [
    {
     "data": {
      "text/plain": [
       "(2356, 14)"
      ]
     },
     "execution_count": 32,
     "metadata": {},
     "output_type": "execute_result"
    }
   ],
   "source": [
    "df1_clean.shape"
   ]
  },
  {
   "cell_type": "markdown",
   "metadata": {},
   "source": [
    "### Define\n",
    "##### Inaccurate data in name 'a' represented 55 times.\n",
    "Extract the correct name using REG expression"
   ]
  },
  {
   "cell_type": "code",
   "execution_count": 33,
   "metadata": {},
   "outputs": [
    {
     "data": {
      "text/plain": [
       "56       a\n",
       "393     Mo\n",
       "446     Bo\n",
       "449     Bo\n",
       "553     Bo\n",
       "        ..\n",
       "2349    an\n",
       "2350     a\n",
       "2352     a\n",
       "2353     a\n",
       "2354     a\n",
       "Name: name, Length: 79, dtype: object"
      ]
     },
     "execution_count": 33,
     "metadata": {},
     "output_type": "execute_result"
    }
   ],
   "source": [
    "short_name = df1_clean [df1_clean.name.str.len() < 3 ]\n",
    "short_name.name"
   ]
  },
  {
   "cell_type": "code",
   "execution_count": 34,
   "metadata": {},
   "outputs": [],
   "source": [
    "pattern_2 = re.compile(r'(?:name(?:d)?)\\s{1}(?:is\\s)?([A-Za-z]+)')\n",
    "for index, row in df1_clean.iterrows():  \n",
    "    try:\n",
    "        if row['name'] == \"a\":\n",
    "            c_name = re.findall(pattern_2, row['text'])[0]\n",
    "            df1_clean.loc[index,'name'] = df1_clean.loc[index,'name'].replace('a', c_name)\n",
    "        elif row['name'] == 'an':\n",
    "            c_name = re.findall(pattern_2, row['text'])[0]\n",
    "            df1_clean.loc[index,'name'] = df1_clean.loc[index,'name'].replace('an', c_name)\n",
    "        elif row['name'] == 'O':\n",
    "            c_name = re.findall(pattern_2, row['text'])[0]\n",
    "            df1_clean.loc[index,'name'] = df1_clean.loc[index,'name'].replace('O', c_name)\n",
    "        elif row['name'] == 'Al':\n",
    "            c_name = re.findall(pattern_2, row['text'])[0]\n",
    "            df1_clean.loc[index,'name'] = df1_clean.loc[index,'name'].replace('Al', c_name)\n",
    "        elif row['name'] == 'my':\n",
    "            c_name = re.findall(pattern_2, row['text'])[0]\n",
    "            df1_clean.loc[index,'name'] = df1_clean.loc[index,'name'].replace('my', c_name)\n",
    "        elif row['name'] == 'by':\n",
    "            c_name = re.findall(pattern_2, row['text'])[0]\n",
    "            df1_clean.loc[index,'name'] = df1_clean.loc[index,'name'].replace('by', c_name)\n",
    "        elif row['name'] == 'Ed':\n",
    "            c_name = re.findall(pattern_2, row['text'])[0]\n",
    "            df1_clean.loc[index,'name'] = df1_clean.loc[index,'name'].replace('Ed', c_name)\n",
    "        elif row['name'] == 'Jo':\n",
    "            c_name = re.findall(pattern_2, row['text'])[0]\n",
    "            df1_clean.loc[index,'name'] = df1_clean.loc[index,'name'].replace('Jo', c_name)\n",
    "        elif row['name'] == 'JD':\n",
    "            c_name = re.findall(pattern_2, row['text'])[0]\n",
    "            df1_clean.loc[index,'name'] = df1_clean.loc[index,'name'].replace('JD', c_name)\n",
    "        elif row['name'] == 'None':\n",
    "            c_name = re.findall(pattern_2, row['text'])[0]\n",
    "            df1_clean.loc[index,'name'] = df1_clean.loc[index,'name'].replace('None', c_name)\n",
    "        elif row['name'] == \"Mo\":\n",
    "            c_name = re.findall(pattern_2, row['text'])[0]\n",
    "            df1_clean.loc[index,'name'] = df1_clean.loc[index,'name'].replace('Mo', c_name)\n",
    "        elif row['name'] == 'Bo':\n",
    "            c_name = re.findall(pattern_2, row['text'])[0]\n",
    "            df1_clean.loc[index,'name'] = df1_clean.loc[index,'name'].replace('Bo', c_name)\n",
    "        elif row['name'] == 'to':\n",
    "            c_name = re.findall(pattern_2, row['text'])[0]\n",
    "            df1_clean.loc[index,'name'] = df1_clean.loc[index,'name'].replace('to', c_name)\n",
    "    except IndexError:\n",
    "        df1_clean.loc[index,'name'] = np.nan"
   ]
  },
  {
   "cell_type": "markdown",
   "metadata": {},
   "source": [
    "### Test"
   ]
  },
  {
   "cell_type": "code",
   "execution_count": 35,
   "metadata": {},
   "outputs": [
    {
     "data": {
      "text/plain": [
       "149     to\n",
       "2086    of\n",
       "Name: name, dtype: object"
      ]
     },
     "execution_count": 35,
     "metadata": {},
     "output_type": "execute_result"
    }
   ],
   "source": [
    "# Test for short name\n",
    "short_name = df1_clean [df1_clean.name.str.len() < 3 ]\n",
    "short_name.name"
   ]
  },
  {
   "cell_type": "code",
   "execution_count": 36,
   "metadata": {},
   "outputs": [
    {
     "data": {
      "text/plain": [
       "0"
      ]
     },
     "execution_count": 36,
     "metadata": {},
     "output_type": "execute_result"
    }
   ],
   "source": [
    "# Test for None \n",
    "(df1_clean.name=='None').sum()"
   ]
  },
  {
   "cell_type": "markdown",
   "metadata": {},
   "source": [
    "### Define"
   ]
  },
  {
   "cell_type": "markdown",
   "metadata": {},
   "source": [
    "##### As per the project requirements; only original ratings (no retweets) that have images should be included"
   ]
  },
  {
   "cell_type": "code",
   "execution_count": 37,
   "metadata": {},
   "outputs": [
    {
     "data": {
      "text/plain": [
       "2075"
      ]
     },
     "execution_count": 37,
     "metadata": {},
     "output_type": "execute_result"
    }
   ],
   "source": [
    "#Use the image_prediction table to guide the selection and removal of tweets without images in the archive table\n",
    "tweets_with_image = list(df2_clean.tweet_id.unique())\n",
    "len(tweets_with_image)"
   ]
  },
  {
   "cell_type": "code",
   "execution_count": 38,
   "metadata": {},
   "outputs": [
    {
     "data": {
      "text/plain": [
       "True"
      ]
     },
     "execution_count": 38,
     "metadata": {},
     "output_type": "execute_result"
    }
   ],
   "source": [
    "# confirming that all the tweets with images exist in the archive dataset\n",
    "len(tweets_with_image) == df1_clean.tweet_id.isin(tweets_with_image).sum()"
   ]
  },
  {
   "cell_type": "code",
   "execution_count": 39,
   "metadata": {},
   "outputs": [],
   "source": [
    "# Cleaning df1_clean\n",
    "df1_clean = df1_clean[df1_clean.tweet_id.isin(tweets_with_image)]"
   ]
  },
  {
   "cell_type": "markdown",
   "metadata": {},
   "source": [
    "### Test"
   ]
  },
  {
   "cell_type": "code",
   "execution_count": 40,
   "metadata": {},
   "outputs": [
    {
     "name": "stdout",
     "output_type": "stream",
     "text": [
      "(2075, 14)\n",
      "(2075, 12)\n",
      "(2330, 5)\n"
     ]
    },
    {
     "data": {
      "text/plain": [
       "True"
      ]
     },
     "execution_count": 40,
     "metadata": {},
     "output_type": "execute_result"
    }
   ],
   "source": [
    "print(df1_clean.shape)\n",
    "print(df2_clean.shape)\n",
    "print(df3_clean.shape)\n",
    "df1_clean.shape[0] == df2_clean.shape[0]"
   ]
  },
  {
   "cell_type": "markdown",
   "metadata": {},
   "source": [
    "### Define"
   ]
  },
  {
   "cell_type": "markdown",
   "metadata": {},
   "source": [
    "##### Columns of retweeted_status_id and its related data have entries which not part of our analysis.\n",
    "###### Use its notnull data to drop retweets and replies then drop it all in df1_clean and df3_clean."
   ]
  },
  {
   "cell_type": "code",
   "execution_count": 41,
   "metadata": {},
   "outputs": [
    {
     "data": {
      "text/plain": [
       "81"
      ]
     },
     "execution_count": 41,
     "metadata": {},
     "output_type": "execute_result"
    }
   ],
   "source": [
    "# extract the tweets that include data in the retweet_status_id.\n",
    "retweet_entries = df1_clean.retweeted_status_id.notnull()\n",
    "df1_clean[retweet_entries].shape[0]"
   ]
  },
  {
   "cell_type": "code",
   "execution_count": 42,
   "metadata": {},
   "outputs": [],
   "source": [
    "# Dropping the retweets from the archive data set\n",
    "df1_clean = df1_clean[~retweet_entries]"
   ]
  },
  {
   "cell_type": "code",
   "execution_count": 43,
   "metadata": {},
   "outputs": [
    {
     "data": {
      "text/plain": [
       "23"
      ]
     },
     "execution_count": 43,
     "metadata": {},
     "output_type": "execute_result"
    }
   ],
   "source": [
    "# Extracting replies entries with the same method as the retweets\n",
    "reply_entries = df1_clean.in_reply_to_status_id.notnull()\n",
    "df1_clean[reply_entries].shape[0]"
   ]
  },
  {
   "cell_type": "code",
   "execution_count": 44,
   "metadata": {},
   "outputs": [],
   "source": [
    "# Dropping the replies from the df1_clean set\n",
    "df1_clean = df1_clean[~reply_entries]"
   ]
  },
  {
   "cell_type": "code",
   "execution_count": 45,
   "metadata": {},
   "outputs": [
    {
     "data": {
      "text/plain": [
       "104"
      ]
     },
     "execution_count": 45,
     "metadata": {},
     "output_type": "execute_result"
    }
   ],
   "source": [
    "# Check the image_prediction table df2_clean for extra tweet ids not in the df1_clean\n",
    "np.logical_not(df2_clean.tweet_id.isin(list(df1_clean.tweet_id))).sum()"
   ]
  },
  {
   "cell_type": "code",
   "execution_count": 46,
   "metadata": {},
   "outputs": [],
   "source": [
    "# Dropping the retweets and replies ids from the image prediction dataframe df2_clean\n",
    "df2_clean = df2_clean[~np.logical_not(df2_clean.tweet_id.isin(list(df1_clean.tweet_id)))]"
   ]
  },
  {
   "cell_type": "code",
   "execution_count": 47,
   "metadata": {},
   "outputs": [
    {
     "data": {
      "text/plain": [
       "366"
      ]
     },
     "execution_count": 47,
     "metadata": {},
     "output_type": "execute_result"
    }
   ],
   "source": [
    "# Check the df3_clean table for extra tweet ids not in the df1_clean\n",
    "np.logical_not(df3_clean.tweet_id.isin(list(df1_clean.tweet_id))).sum()"
   ]
  },
  {
   "cell_type": "code",
   "execution_count": 48,
   "metadata": {},
   "outputs": [],
   "source": [
    "# Dropping the retweets and replies ids from the dataframe df3_clean\n",
    "df3_clean = df3_clean[~np.logical_not(df3_clean.tweet_id.isin(list(df1_clean.tweet_id)))]"
   ]
  },
  {
   "cell_type": "code",
   "execution_count": 49,
   "metadata": {},
   "outputs": [],
   "source": [
    "#Dropping columns in_reply_to_status_id, in_reply_to_user_id, retweeted_status_id, retweeted_status_user_id, retweeted_status_timestamp\n",
    "df1_clean.drop(['in_reply_to_status_id', 'in_reply_to_user_id', 'retweeted_status_id', 'retweeted_status_user_id', 'retweeted_status_timestamp'],axis=1,inplace=True)"
   ]
  },
  {
   "cell_type": "markdown",
   "metadata": {},
   "source": [
    "### Test"
   ]
  },
  {
   "cell_type": "code",
   "execution_count": 50,
   "metadata": {},
   "outputs": [
    {
     "name": "stdout",
     "output_type": "stream",
     "text": [
      "(1971, 9)\n",
      "(1971, 12)\n",
      "(1964, 5)\n"
     ]
    }
   ],
   "source": [
    "print(df1_clean.shape)\n",
    "print(df2_clean.shape)\n",
    "print(df3_clean.shape)"
   ]
  },
  {
   "cell_type": "code",
   "execution_count": 51,
   "metadata": {},
   "outputs": [
    {
     "name": "stdout",
     "output_type": "stream",
     "text": [
      "True\n",
      "True\n",
      "True\n"
     ]
    },
    {
     "name": "stderr",
     "output_type": "stream",
     "text": [
      "<ipython-input-51-c0f698a2d89c>:1: UserWarning: Boolean Series key will be reindexed to match DataFrame index.\n",
      "  print((df1_clean[retweet_entries].shape[0])==0)\n",
      "<ipython-input-51-c0f698a2d89c>:2: UserWarning: Boolean Series key will be reindexed to match DataFrame index.\n",
      "  print((df1_clean[reply_entries].shape[0])==0)\n"
     ]
    }
   ],
   "source": [
    "print((df1_clean[retweet_entries].shape[0])==0)\n",
    "print((df1_clean[reply_entries].shape[0])==0)\n",
    "print(np.logical_not((df2_clean.tweet_id.isin(list(df1_clean.tweet_id))).sum())==0)"
   ]
  },
  {
   "cell_type": "code",
   "execution_count": 52,
   "metadata": {},
   "outputs": [
    {
     "data": {
      "text/plain": [
       "RangeIndex(start=0, stop=1971, step=1)"
      ]
     },
     "execution_count": 52,
     "metadata": {},
     "output_type": "execute_result"
    }
   ],
   "source": [
    "df1_clean = df1_clean.reset_index(drop=True)\n",
    "df1_clean.index"
   ]
  },
  {
   "cell_type": "code",
   "execution_count": 53,
   "metadata": {},
   "outputs": [
    {
     "data": {
      "text/plain": [
       "RangeIndex(start=0, stop=1971, step=1)"
      ]
     },
     "execution_count": 53,
     "metadata": {},
     "output_type": "execute_result"
    }
   ],
   "source": [
    "df2_clean = df2_clean.reset_index(drop=True)\n",
    "df2_clean.index"
   ]
  },
  {
   "cell_type": "code",
   "execution_count": 54,
   "metadata": {},
   "outputs": [
    {
     "data": {
      "text/plain": [
       "RangeIndex(start=0, stop=1964, step=1)"
      ]
     },
     "execution_count": 54,
     "metadata": {},
     "output_type": "execute_result"
    }
   ],
   "source": [
    "df3_clean = df3_clean.reset_index(drop=True)\n",
    "df3_clean.index"
   ]
  },
  {
   "cell_type": "code",
   "execution_count": 55,
   "metadata": {},
   "outputs": [
    {
     "data": {
      "text/html": [
       "<div>\n",
       "<style scoped>\n",
       "    .dataframe tbody tr th:only-of-type {\n",
       "        vertical-align: middle;\n",
       "    }\n",
       "\n",
       "    .dataframe tbody tr th {\n",
       "        vertical-align: top;\n",
       "    }\n",
       "\n",
       "    .dataframe thead th {\n",
       "        text-align: right;\n",
       "    }\n",
       "</style>\n",
       "<table border=\"1\" class=\"dataframe\">\n",
       "  <thead>\n",
       "    <tr style=\"text-align: right;\">\n",
       "      <th></th>\n",
       "      <th>tweet_id</th>\n",
       "      <th>timestamp</th>\n",
       "      <th>source</th>\n",
       "      <th>text</th>\n",
       "      <th>expanded_urls</th>\n",
       "      <th>rating_numerator</th>\n",
       "      <th>rating_denominator</th>\n",
       "      <th>name</th>\n",
       "      <th>dog_stages</th>\n",
       "    </tr>\n",
       "  </thead>\n",
       "  <tbody>\n",
       "    <tr>\n",
       "      <th>372</th>\n",
       "      <td>813051746834595840</td>\n",
       "      <td>2016-12-25 16:00:16 +0000</td>\n",
       "      <td>&lt;a href=\"http://twitter.com/download/iphone\" r...</td>\n",
       "      <td>This is Bauer. He had nothing to do with the c...</td>\n",
       "      <td>https://twitter.com/dog_rates/status/813051746...</td>\n",
       "      <td>13</td>\n",
       "      <td>10</td>\n",
       "      <td>Bauer</td>\n",
       "      <td></td>\n",
       "    </tr>\n",
       "    <tr>\n",
       "      <th>800</th>\n",
       "      <td>739844404073074688</td>\n",
       "      <td>2016-06-06 15:40:26 +0000</td>\n",
       "      <td>&lt;a href=\"http://twitter.com/download/iphone\" r...</td>\n",
       "      <td>This is Simba. He's the grand prize. The troph...</td>\n",
       "      <td>https://twitter.com/dog_rates/status/739844404...</td>\n",
       "      <td>12</td>\n",
       "      <td>10</td>\n",
       "      <td>Simba</td>\n",
       "      <td></td>\n",
       "    </tr>\n",
       "  </tbody>\n",
       "</table>\n",
       "</div>"
      ],
      "text/plain": [
       "               tweet_id                  timestamp  \\\n",
       "372  813051746834595840  2016-12-25 16:00:16 +0000   \n",
       "800  739844404073074688  2016-06-06 15:40:26 +0000   \n",
       "\n",
       "                                                source  \\\n",
       "372  <a href=\"http://twitter.com/download/iphone\" r...   \n",
       "800  <a href=\"http://twitter.com/download/iphone\" r...   \n",
       "\n",
       "                                                  text  \\\n",
       "372  This is Bauer. He had nothing to do with the c...   \n",
       "800  This is Simba. He's the grand prize. The troph...   \n",
       "\n",
       "                                         expanded_urls  rating_numerator  \\\n",
       "372  https://twitter.com/dog_rates/status/813051746...                13   \n",
       "800  https://twitter.com/dog_rates/status/739844404...                12   \n",
       "\n",
       "     rating_denominator   name dog_stages  \n",
       "372                  10  Bauer             \n",
       "800                  10  Simba             "
      ]
     },
     "execution_count": 55,
     "metadata": {},
     "output_type": "execute_result"
    }
   ],
   "source": [
    "df1_clean.sample(2)"
   ]
  },
  {
   "cell_type": "code",
   "execution_count": 56,
   "metadata": {},
   "outputs": [
    {
     "data": {
      "text/html": [
       "<div>\n",
       "<style scoped>\n",
       "    .dataframe tbody tr th:only-of-type {\n",
       "        vertical-align: middle;\n",
       "    }\n",
       "\n",
       "    .dataframe tbody tr th {\n",
       "        vertical-align: top;\n",
       "    }\n",
       "\n",
       "    .dataframe thead th {\n",
       "        text-align: right;\n",
       "    }\n",
       "</style>\n",
       "<table border=\"1\" class=\"dataframe\">\n",
       "  <thead>\n",
       "    <tr style=\"text-align: right;\">\n",
       "      <th></th>\n",
       "      <th>tweet_id</th>\n",
       "      <th>jpg_url</th>\n",
       "      <th>img_num</th>\n",
       "      <th>p1</th>\n",
       "      <th>p1_conf</th>\n",
       "      <th>p1_dog</th>\n",
       "      <th>p2</th>\n",
       "      <th>p2_conf</th>\n",
       "      <th>p2_dog</th>\n",
       "      <th>p3</th>\n",
       "      <th>p3_conf</th>\n",
       "      <th>p3_dog</th>\n",
       "    </tr>\n",
       "  </thead>\n",
       "  <tbody>\n",
       "    <tr>\n",
       "      <th>1070</th>\n",
       "      <td>719332531645071360</td>\n",
       "      <td>https://pbs.twimg.com/media/CfuVGl3WEAEKb16.jpg</td>\n",
       "      <td>1</td>\n",
       "      <td>Dandie_Dinmont</td>\n",
       "      <td>0.224415</td>\n",
       "      <td>True</td>\n",
       "      <td>miniature_poodle</td>\n",
       "      <td>0.204882</td>\n",
       "      <td>True</td>\n",
       "      <td>Norfolk_terrier</td>\n",
       "      <td>0.090633</td>\n",
       "      <td>True</td>\n",
       "    </tr>\n",
       "    <tr>\n",
       "      <th>583</th>\n",
       "      <td>679475951516934144</td>\n",
       "      <td>https://pbs.twimg.com/media/CW37xZbUoAAUXe5.jpg</td>\n",
       "      <td>1</td>\n",
       "      <td>Maltese_dog</td>\n",
       "      <td>0.145742</td>\n",
       "      <td>True</td>\n",
       "      <td>toy_poodle</td>\n",
       "      <td>0.139407</td>\n",
       "      <td>True</td>\n",
       "      <td>West_Highland_white_terrier</td>\n",
       "      <td>0.108821</td>\n",
       "      <td>True</td>\n",
       "    </tr>\n",
       "  </tbody>\n",
       "</table>\n",
       "</div>"
      ],
      "text/plain": [
       "                tweet_id                                          jpg_url  \\\n",
       "1070  719332531645071360  https://pbs.twimg.com/media/CfuVGl3WEAEKb16.jpg   \n",
       "583   679475951516934144  https://pbs.twimg.com/media/CW37xZbUoAAUXe5.jpg   \n",
       "\n",
       "      img_num              p1   p1_conf  p1_dog                p2   p2_conf  \\\n",
       "1070        1  Dandie_Dinmont  0.224415    True  miniature_poodle  0.204882   \n",
       "583         1     Maltese_dog  0.145742    True        toy_poodle  0.139407   \n",
       "\n",
       "      p2_dog                           p3   p3_conf  p3_dog  \n",
       "1070    True              Norfolk_terrier  0.090633    True  \n",
       "583     True  West_Highland_white_terrier  0.108821    True  "
      ]
     },
     "execution_count": 56,
     "metadata": {},
     "output_type": "execute_result"
    }
   ],
   "source": [
    "df2_clean.sample(2)"
   ]
  },
  {
   "cell_type": "code",
   "execution_count": 57,
   "metadata": {},
   "outputs": [
    {
     "data": {
      "text/html": [
       "<div>\n",
       "<style scoped>\n",
       "    .dataframe tbody tr th:only-of-type {\n",
       "        vertical-align: middle;\n",
       "    }\n",
       "\n",
       "    .dataframe tbody tr th {\n",
       "        vertical-align: top;\n",
       "    }\n",
       "\n",
       "    .dataframe thead th {\n",
       "        text-align: right;\n",
       "    }\n",
       "</style>\n",
       "<table border=\"1\" class=\"dataframe\">\n",
       "  <thead>\n",
       "    <tr style=\"text-align: right;\">\n",
       "      <th></th>\n",
       "      <th>Unnamed: 0</th>\n",
       "      <th>tweet_id</th>\n",
       "      <th>retweet_count</th>\n",
       "      <th>favorite_count</th>\n",
       "      <th>followers_count</th>\n",
       "    </tr>\n",
       "  </thead>\n",
       "  <tbody>\n",
       "    <tr>\n",
       "      <th>53</th>\n",
       "      <td>59</td>\n",
       "      <td>880465832366813184</td>\n",
       "      <td>5478</td>\n",
       "      <td>26015</td>\n",
       "      <td>8941394</td>\n",
       "    </tr>\n",
       "    <tr>\n",
       "      <th>676</th>\n",
       "      <td>906</td>\n",
       "      <td>754482103782404096</td>\n",
       "      <td>1897</td>\n",
       "      <td>5154</td>\n",
       "      <td>8941406</td>\n",
       "    </tr>\n",
       "  </tbody>\n",
       "</table>\n",
       "</div>"
      ],
      "text/plain": [
       "     Unnamed: 0            tweet_id  retweet_count  favorite_count  \\\n",
       "53           59  880465832366813184           5478           26015   \n",
       "676         906  754482103782404096           1897            5154   \n",
       "\n",
       "     followers_count  \n",
       "53           8941394  \n",
       "676          8941406  "
      ]
     },
     "execution_count": 57,
     "metadata": {},
     "output_type": "execute_result"
    }
   ],
   "source": [
    "df3_clean.sample(2)"
   ]
  },
  {
   "cell_type": "markdown",
   "metadata": {},
   "source": [
    "### Define"
   ]
  },
  {
   "cell_type": "markdown",
   "metadata": {},
   "source": [
    "##### Invalid dtype in timestamp represented as object type."
   ]
  },
  {
   "cell_type": "code",
   "execution_count": 58,
   "metadata": {},
   "outputs": [],
   "source": [
    "#convert timestamp to date time type \n",
    "df1_clean['timestamp'] = pd.to_datetime(df1_clean['timestamp'])"
   ]
  },
  {
   "cell_type": "markdown",
   "metadata": {},
   "source": [
    "### Test"
   ]
  },
  {
   "cell_type": "code",
   "execution_count": 59,
   "metadata": {},
   "outputs": [
    {
     "data": {
      "text/plain": [
       "datetime64[ns, UTC]"
      ]
     },
     "execution_count": 59,
     "metadata": {},
     "output_type": "execute_result"
    }
   ],
   "source": [
    "df1_clean.timestamp.dtypes"
   ]
  },
  {
   "cell_type": "markdown",
   "metadata": {},
   "source": [
    "### Define"
   ]
  },
  {
   "cell_type": "markdown",
   "metadata": {},
   "source": [
    "##### Inaccurate data in rating_numerator and df_denominator.\n",
    "##### the denominator should always be 10 but some aren't in all cases So dividing by it or not doesn't mattar.\n",
    "##### we are going to drop denominator later and just use the rating_numerator as the rating value.\n",
    "##### some rating extracted incorrectly \n",
    "- extract it with REGS\n",
    "\n",
    "##### Most images with more than dog have denominator greater than 10 and numerator greater than 20.\n",
    "- Calculating the dogs counts in the tweets featuring many dogs by dividing denominator/10\n",
    "- Calculating the rating_numerator for images with more than one dog counts by dividing numerator/dogs counts\n",
    "\n",
    "##### investigate each outlier individually through its image found some images not a dog and some not found and those will be dropped:\n",
    "- Drop rows"
   ]
  },
  {
   "cell_type": "code",
   "execution_count": 60,
   "metadata": {},
   "outputs": [],
   "source": [
    "#try to extract correct rating with REGS\n",
    "df1_clean['rating_numerator'] = df1_clean.text.str.extract('(\\d+\\.?\\d?\\d?)\\/\\d{1,3}', expand = False).astype('float')"
   ]
  },
  {
   "cell_type": "code",
   "execution_count": 61,
   "metadata": {},
   "outputs": [
    {
     "data": {
      "text/html": [
       "<div>\n",
       "<style scoped>\n",
       "    .dataframe tbody tr th:only-of-type {\n",
       "        vertical-align: middle;\n",
       "    }\n",
       "\n",
       "    .dataframe tbody tr th {\n",
       "        vertical-align: top;\n",
       "    }\n",
       "\n",
       "    .dataframe thead th {\n",
       "        text-align: right;\n",
       "    }\n",
       "</style>\n",
       "<table border=\"1\" class=\"dataframe\">\n",
       "  <thead>\n",
       "    <tr style=\"text-align: right;\">\n",
       "      <th></th>\n",
       "      <th>tweet_id</th>\n",
       "      <th>rating_numerator</th>\n",
       "    </tr>\n",
       "  </thead>\n",
       "  <tbody>\n",
       "    <tr>\n",
       "      <th>320</th>\n",
       "      <td>820690176645140481</td>\n",
       "      <td>84.0</td>\n",
       "    </tr>\n",
       "    <tr>\n",
       "      <th>382</th>\n",
       "      <td>810984652412424192</td>\n",
       "      <td>24.0</td>\n",
       "    </tr>\n",
       "    <tr>\n",
       "      <th>658</th>\n",
       "      <td>758467244762497024</td>\n",
       "      <td>165.0</td>\n",
       "    </tr>\n",
       "    <tr>\n",
       "      <th>722</th>\n",
       "      <td>749981277374128128</td>\n",
       "      <td>1776.0</td>\n",
       "    </tr>\n",
       "    <tr>\n",
       "      <th>842</th>\n",
       "      <td>731156023742988288</td>\n",
       "      <td>204.0</td>\n",
       "    </tr>\n",
       "    <tr>\n",
       "      <th>918</th>\n",
       "      <td>716439118184652801</td>\n",
       "      <td>50.0</td>\n",
       "    </tr>\n",
       "    <tr>\n",
       "      <th>939</th>\n",
       "      <td>713900603437621249</td>\n",
       "      <td>99.0</td>\n",
       "    </tr>\n",
       "    <tr>\n",
       "      <th>963</th>\n",
       "      <td>710658690886586372</td>\n",
       "      <td>80.0</td>\n",
       "    </tr>\n",
       "    <tr>\n",
       "      <th>981</th>\n",
       "      <td>709198395643068416</td>\n",
       "      <td>45.0</td>\n",
       "    </tr>\n",
       "    <tr>\n",
       "      <th>1045</th>\n",
       "      <td>704054845121142784</td>\n",
       "      <td>60.0</td>\n",
       "    </tr>\n",
       "    <tr>\n",
       "      <th>1120</th>\n",
       "      <td>697463031882764288</td>\n",
       "      <td>44.0</td>\n",
       "    </tr>\n",
       "    <tr>\n",
       "      <th>1288</th>\n",
       "      <td>684222868335505415</td>\n",
       "      <td>121.0</td>\n",
       "    </tr>\n",
       "    <tr>\n",
       "      <th>1420</th>\n",
       "      <td>677716515794329600</td>\n",
       "      <td>144.0</td>\n",
       "    </tr>\n",
       "    <tr>\n",
       "      <th>1478</th>\n",
       "      <td>675853064436391936</td>\n",
       "      <td>88.0</td>\n",
       "    </tr>\n",
       "    <tr>\n",
       "      <th>1696</th>\n",
       "      <td>670842764863651840</td>\n",
       "      <td>420.0</td>\n",
       "    </tr>\n",
       "  </tbody>\n",
       "</table>\n",
       "</div>"
      ],
      "text/plain": [
       "                tweet_id  rating_numerator\n",
       "320   820690176645140481              84.0\n",
       "382   810984652412424192              24.0\n",
       "658   758467244762497024             165.0\n",
       "722   749981277374128128            1776.0\n",
       "842   731156023742988288             204.0\n",
       "918   716439118184652801              50.0\n",
       "939   713900603437621249              99.0\n",
       "963   710658690886586372              80.0\n",
       "981   709198395643068416              45.0\n",
       "1045  704054845121142784              60.0\n",
       "1120  697463031882764288              44.0\n",
       "1288  684222868335505415             121.0\n",
       "1420  677716515794329600             144.0\n",
       "1478  675853064436391936              88.0\n",
       "1696  670842764863651840             420.0"
      ]
     },
     "execution_count": 61,
     "metadata": {},
     "output_type": "execute_result"
    }
   ],
   "source": [
    "#check for incorrect rating assume that over rated numerator more than 20\n",
    "inaccurat_rating = df1_clean[df1_clean.rating_numerator>20][['tweet_id','rating_numerator']]\n",
    "inaccurat_rating"
   ]
  },
  {
   "cell_type": "code",
   "execution_count": 62,
   "metadata": {},
   "outputs": [
    {
     "name": "stdout",
     "output_type": "stream",
     "text": [
      "320      7.0\n",
      "382      0.7\n",
      "658     15.0\n",
      "722      1.0\n",
      "842     17.0\n",
      "918      5.0\n",
      "939      9.0\n",
      "963      8.0\n",
      "981      5.0\n",
      "1045     5.0\n",
      "1120     4.0\n",
      "1288    11.0\n",
      "1420    12.0\n",
      "1478     8.0\n",
      "1696     1.0\n",
      "Name: rating_denominator, dtype: float64\n"
     ]
    }
   ],
   "source": [
    "# Calculating the dogs counts in the tweets featuring many dogs\n",
    "dogs_count = df1_clean.rating_denominator[df1_clean.rating_numerator > 20 ]/10\n",
    "print(dogs_count)"
   ]
  },
  {
   "cell_type": "code",
   "execution_count": 63,
   "metadata": {},
   "outputs": [
    {
     "name": "stderr",
     "output_type": "stream",
     "text": [
      "C:\\Users\\ZENAB\\anaconda3\\lib\\site-packages\\numpy\\core\\_asarray.py:83: VisibleDeprecationWarning: Creating an ndarray from ragged nested sequences (which is a list-or-tuple of lists-or-tuples-or ndarrays with different lengths or shapes) is deprecated. If you meant to do this, you must specify 'dtype=object' when creating the ndarray\n",
      "  return array(a, dtype, copy=False, order=order)\n"
     ]
    }
   ],
   "source": [
    "df1_clean.loc[df1_clean.rating_numerator > 20, ['rating_numerator', 'rating_denominator']] = [inaccurat_rating.rating_numerator/dogs_count , 10]"
   ]
  },
  {
   "cell_type": "code",
   "execution_count": 64,
   "metadata": {},
   "outputs": [
    {
     "data": {
      "text/html": [
       "<div>\n",
       "<style scoped>\n",
       "    .dataframe tbody tr th:only-of-type {\n",
       "        vertical-align: middle;\n",
       "    }\n",
       "\n",
       "    .dataframe tbody tr th {\n",
       "        vertical-align: top;\n",
       "    }\n",
       "\n",
       "    .dataframe thead th {\n",
       "        text-align: right;\n",
       "    }\n",
       "</style>\n",
       "<table border=\"1\" class=\"dataframe\">\n",
       "  <thead>\n",
       "    <tr style=\"text-align: right;\">\n",
       "      <th></th>\n",
       "      <th>tweet_id</th>\n",
       "      <th>rating_numerator</th>\n",
       "    </tr>\n",
       "  </thead>\n",
       "  <tbody>\n",
       "    <tr>\n",
       "      <th>382</th>\n",
       "      <td>810984652412424192</td>\n",
       "      <td>34.285714</td>\n",
       "    </tr>\n",
       "    <tr>\n",
       "      <th>722</th>\n",
       "      <td>749981277374128128</td>\n",
       "      <td>1776.000000</td>\n",
       "    </tr>\n",
       "    <tr>\n",
       "      <th>1696</th>\n",
       "      <td>670842764863651840</td>\n",
       "      <td>420.000000</td>\n",
       "    </tr>\n",
       "  </tbody>\n",
       "</table>\n",
       "</div>"
      ],
      "text/plain": [
       "                tweet_id  rating_numerator\n",
       "382   810984652412424192         34.285714\n",
       "722   749981277374128128       1776.000000\n",
       "1696  670842764863651840        420.000000"
      ]
     },
     "execution_count": 64,
     "metadata": {},
     "output_type": "execute_result"
    }
   ],
   "source": [
    "#investigate incorrect rating and drop\n",
    "inaccurat_rating = df1_clean[df1_clean.rating_numerator>20][['tweet_id','rating_numerator']]\n",
    "inaccurat_rating"
   ]
  },
  {
   "cell_type": "code",
   "execution_count": 65,
   "metadata": {},
   "outputs": [],
   "source": [
    "df1_clean = df1_clean.drop([382,722, 1696])"
   ]
  },
  {
   "cell_type": "code",
   "execution_count": 66,
   "metadata": {},
   "outputs": [],
   "source": [
    "# Dropping the extra tweet ids from df2_clean not in the df1_clean\n",
    "df2_clean = df2_clean[~np.logical_not(df2_clean.tweet_id.isin(list(df1_clean.tweet_id)))]"
   ]
  },
  {
   "cell_type": "code",
   "execution_count": 67,
   "metadata": {},
   "outputs": [],
   "source": [
    "# Dropping the extra tweet ids from df3_clean not in the df1_clean\n",
    "df3_clean = df3_clean[~np.logical_not(df3_clean.tweet_id.isin(list(df1_clean.tweet_id)))]"
   ]
  },
  {
   "cell_type": "code",
   "execution_count": 68,
   "metadata": {},
   "outputs": [
    {
     "name": "stdout",
     "output_type": "stream",
     "text": [
      "0\n",
      "0\n"
     ]
    }
   ],
   "source": [
    "print(np.logical_not(df3_clean.tweet_id.isin(list(df1_clean.tweet_id))).sum())\n",
    "print(np.logical_not(df3_clean.tweet_id.isin(list(df1_clean.tweet_id))).sum())"
   ]
  },
  {
   "cell_type": "code",
   "execution_count": 69,
   "metadata": {},
   "outputs": [
    {
     "data": {
      "text/plain": [
       "RangeIndex(start=0, stop=1968, step=1)"
      ]
     },
     "execution_count": 69,
     "metadata": {},
     "output_type": "execute_result"
    }
   ],
   "source": [
    "df1_clean = df1_clean.reset_index(drop=True)\n",
    "df1_clean.index"
   ]
  },
  {
   "cell_type": "code",
   "execution_count": 70,
   "metadata": {},
   "outputs": [
    {
     "data": {
      "text/plain": [
       "RangeIndex(start=0, stop=1968, step=1)"
      ]
     },
     "execution_count": 70,
     "metadata": {},
     "output_type": "execute_result"
    }
   ],
   "source": [
    "df2_clean = df2_clean.reset_index(drop=True)\n",
    "df2_clean.index"
   ]
  },
  {
   "cell_type": "code",
   "execution_count": 71,
   "metadata": {},
   "outputs": [
    {
     "data": {
      "text/plain": [
       "RangeIndex(start=0, stop=1961, step=1)"
      ]
     },
     "execution_count": 71,
     "metadata": {},
     "output_type": "execute_result"
    }
   ],
   "source": [
    "df3_clean = df3_clean.reset_index(drop=True)\n",
    "df3_clean.index"
   ]
  },
  {
   "cell_type": "markdown",
   "metadata": {},
   "source": [
    "### Test"
   ]
  },
  {
   "cell_type": "code",
   "execution_count": 72,
   "metadata": {},
   "outputs": [
    {
     "data": {
      "text/html": [
       "<div>\n",
       "<style scoped>\n",
       "    .dataframe tbody tr th:only-of-type {\n",
       "        vertical-align: middle;\n",
       "    }\n",
       "\n",
       "    .dataframe tbody tr th {\n",
       "        vertical-align: top;\n",
       "    }\n",
       "\n",
       "    .dataframe thead th {\n",
       "        text-align: right;\n",
       "    }\n",
       "</style>\n",
       "<table border=\"1\" class=\"dataframe\">\n",
       "  <thead>\n",
       "    <tr style=\"text-align: right;\">\n",
       "      <th></th>\n",
       "      <th>tweet_id</th>\n",
       "      <th>rating_numerator</th>\n",
       "    </tr>\n",
       "  </thead>\n",
       "  <tbody>\n",
       "  </tbody>\n",
       "</table>\n",
       "</div>"
      ],
      "text/plain": [
       "Empty DataFrame\n",
       "Columns: [tweet_id, rating_numerator]\n",
       "Index: []"
      ]
     },
     "execution_count": 72,
     "metadata": {},
     "output_type": "execute_result"
    }
   ],
   "source": [
    "df1_clean[df1_clean.rating_numerator>20][['tweet_id','rating_numerator']]"
   ]
  },
  {
   "cell_type": "code",
   "execution_count": 73,
   "metadata": {},
   "outputs": [
    {
     "name": "stdout",
     "output_type": "stream",
     "text": [
      "(1968, 9)\n",
      "(1968, 12)\n",
      "(1961, 5)\n"
     ]
    }
   ],
   "source": [
    "print(df1_clean.shape)\n",
    "print(df2_clean.shape)\n",
    "print(df3_clean.shape)"
   ]
  },
  {
   "cell_type": "markdown",
   "metadata": {},
   "source": [
    "### Define"
   ]
  },
  {
   "cell_type": "markdown",
   "metadata": {},
   "source": [
    "##### Column tweet_id represented as int64 across all data set"
   ]
  },
  {
   "cell_type": "code",
   "execution_count": 74,
   "metadata": {},
   "outputs": [],
   "source": [
    "# Convret to str\n",
    "df1_clean.loc[:,['tweet_id']] = df1_clean.loc[:,['tweet_id']].astype(np.int64).astype(str)\n",
    "df2_clean.loc[:,['tweet_id']] = df2_clean.loc[:,['tweet_id']].astype(np.int64).astype(str)\n",
    "df3_clean.loc[:,['tweet_id']] = df3_clean.loc[:,['tweet_id']].astype(np.int64).astype(str)"
   ]
  },
  {
   "cell_type": "markdown",
   "metadata": {},
   "source": [
    "### Test"
   ]
  },
  {
   "cell_type": "code",
   "execution_count": 75,
   "metadata": {},
   "outputs": [
    {
     "name": "stdout",
     "output_type": "stream",
     "text": [
      "object\n",
      "object\n",
      "object\n"
     ]
    }
   ],
   "source": [
    "print(df1_clean.tweet_id.dtypes)\n",
    "print(df2_clean.tweet_id.dtypes)\n",
    "print(df3_clean.tweet_id.dtypes)"
   ]
  },
  {
   "cell_type": "markdown",
   "metadata": {},
   "source": [
    "### Define"
   ]
  },
  {
   "cell_type": "code",
   "execution_count": 76,
   "metadata": {},
   "outputs": [],
   "source": [
    "false_p1dog = df2_clean[df2_clean[\"p1_dog\"]== False]"
   ]
  },
  {
   "cell_type": "code",
   "execution_count": 77,
   "metadata": {},
   "outputs": [],
   "source": [
    "false_p2dog = false_p1dog[false_p1dog['p2_dog']==False]"
   ]
  },
  {
   "cell_type": "code",
   "execution_count": 78,
   "metadata": {},
   "outputs": [],
   "source": [
    "false_p3dog = false_p2dog[false_p2dog['p3_dog']==False]"
   ]
  },
  {
   "cell_type": "code",
   "execution_count": 79,
   "metadata": {},
   "outputs": [],
   "source": [
    "df2_clean = df2_clean.drop(false_p3dog.index,axis = 0)"
   ]
  },
  {
   "cell_type": "code",
   "execution_count": 80,
   "metadata": {},
   "outputs": [
    {
     "data": {
      "text/plain": [
       "RangeIndex(start=0, stop=1665, step=1)"
      ]
     },
     "execution_count": 80,
     "metadata": {},
     "output_type": "execute_result"
    }
   ],
   "source": [
    "df2_clean = df2_clean.reset_index(drop=True)\n",
    "df2_clean.index"
   ]
  },
  {
   "cell_type": "markdown",
   "metadata": {},
   "source": [
    "### Test"
   ]
  },
  {
   "cell_type": "code",
   "execution_count": 81,
   "metadata": {},
   "outputs": [
    {
     "data": {
      "text/plain": [
       "(1665, 12)"
      ]
     },
     "execution_count": 81,
     "metadata": {},
     "output_type": "execute_result"
    }
   ],
   "source": [
    "df2_clean.shape"
   ]
  },
  {
   "cell_type": "markdown",
   "metadata": {},
   "source": [
    "### Define\n",
    "##### One variable 'prediction' have three columns.\n",
    "##### Columns of predictions have lables represented as letters.\n",
    "- Use wide to long method to correct table tiddness issue"
   ]
  },
  {
   "cell_type": "code",
   "execution_count": 82,
   "metadata": {},
   "outputs": [],
   "source": [
    "# Rename columns of dataframe\n",
    "cols = ['tweet_id', 'jpg_url', 'img_num', \n",
    "       'prediction_1', 'confidence_1', 'breed_1',\n",
    "       'prediction_2', 'confidence_2', 'breed_2',\n",
    "       'prediction_3', 'confidence_3', 'breed_3']\n",
    "df2_clean.columns = cols"
   ]
  },
  {
   "cell_type": "code",
   "execution_count": 83,
   "metadata": {},
   "outputs": [],
   "source": [
    "# Reshaping the dataframe\n",
    "df2_clean= pd.wide_to_long(df2_clean, stubnames=['prediction', 'confidence', 'breed'], \n",
    "    i=['tweet_id', 'jpg_url', 'img_num'], j='prediction_level', sep=\"_\").reset_index()"
   ]
  },
  {
   "cell_type": "markdown",
   "metadata": {},
   "source": [
    "### Test"
   ]
  },
  {
   "cell_type": "code",
   "execution_count": 84,
   "metadata": {},
   "outputs": [
    {
     "data": {
      "text/html": [
       "<div>\n",
       "<style scoped>\n",
       "    .dataframe tbody tr th:only-of-type {\n",
       "        vertical-align: middle;\n",
       "    }\n",
       "\n",
       "    .dataframe tbody tr th {\n",
       "        vertical-align: top;\n",
       "    }\n",
       "\n",
       "    .dataframe thead th {\n",
       "        text-align: right;\n",
       "    }\n",
       "</style>\n",
       "<table border=\"1\" class=\"dataframe\">\n",
       "  <thead>\n",
       "    <tr style=\"text-align: right;\">\n",
       "      <th></th>\n",
       "      <th>tweet_id</th>\n",
       "      <th>jpg_url</th>\n",
       "      <th>img_num</th>\n",
       "      <th>prediction_level</th>\n",
       "      <th>prediction</th>\n",
       "      <th>confidence</th>\n",
       "      <th>breed</th>\n",
       "    </tr>\n",
       "  </thead>\n",
       "  <tbody>\n",
       "    <tr>\n",
       "      <th>0</th>\n",
       "      <td>666020888022790149</td>\n",
       "      <td>https://pbs.twimg.com/media/CT4udn0WwAA0aMy.jpg</td>\n",
       "      <td>1</td>\n",
       "      <td>1</td>\n",
       "      <td>Welsh_springer_spaniel</td>\n",
       "      <td>0.465074</td>\n",
       "      <td>True</td>\n",
       "    </tr>\n",
       "    <tr>\n",
       "      <th>1</th>\n",
       "      <td>666020888022790149</td>\n",
       "      <td>https://pbs.twimg.com/media/CT4udn0WwAA0aMy.jpg</td>\n",
       "      <td>1</td>\n",
       "      <td>2</td>\n",
       "      <td>collie</td>\n",
       "      <td>0.156665</td>\n",
       "      <td>True</td>\n",
       "    </tr>\n",
       "    <tr>\n",
       "      <th>2</th>\n",
       "      <td>666020888022790149</td>\n",
       "      <td>https://pbs.twimg.com/media/CT4udn0WwAA0aMy.jpg</td>\n",
       "      <td>1</td>\n",
       "      <td>3</td>\n",
       "      <td>Shetland_sheepdog</td>\n",
       "      <td>0.061428</td>\n",
       "      <td>True</td>\n",
       "    </tr>\n",
       "    <tr>\n",
       "      <th>3</th>\n",
       "      <td>666029285002620928</td>\n",
       "      <td>https://pbs.twimg.com/media/CT42GRgUYAA5iDo.jpg</td>\n",
       "      <td>1</td>\n",
       "      <td>1</td>\n",
       "      <td>redbone</td>\n",
       "      <td>0.506826</td>\n",
       "      <td>True</td>\n",
       "    </tr>\n",
       "    <tr>\n",
       "      <th>4</th>\n",
       "      <td>666029285002620928</td>\n",
       "      <td>https://pbs.twimg.com/media/CT42GRgUYAA5iDo.jpg</td>\n",
       "      <td>1</td>\n",
       "      <td>2</td>\n",
       "      <td>miniature_pinscher</td>\n",
       "      <td>0.074192</td>\n",
       "      <td>True</td>\n",
       "    </tr>\n",
       "  </tbody>\n",
       "</table>\n",
       "</div>"
      ],
      "text/plain": [
       "             tweet_id                                          jpg_url  \\\n",
       "0  666020888022790149  https://pbs.twimg.com/media/CT4udn0WwAA0aMy.jpg   \n",
       "1  666020888022790149  https://pbs.twimg.com/media/CT4udn0WwAA0aMy.jpg   \n",
       "2  666020888022790149  https://pbs.twimg.com/media/CT4udn0WwAA0aMy.jpg   \n",
       "3  666029285002620928  https://pbs.twimg.com/media/CT42GRgUYAA5iDo.jpg   \n",
       "4  666029285002620928  https://pbs.twimg.com/media/CT42GRgUYAA5iDo.jpg   \n",
       "\n",
       "   img_num  prediction_level              prediction  confidence  breed  \n",
       "0        1                 1  Welsh_springer_spaniel    0.465074   True  \n",
       "1        1                 2                  collie    0.156665   True  \n",
       "2        1                 3       Shetland_sheepdog    0.061428   True  \n",
       "3        1                 1                 redbone    0.506826   True  \n",
       "4        1                 2      miniature_pinscher    0.074192   True  "
      ]
     },
     "execution_count": 84,
     "metadata": {},
     "output_type": "execute_result"
    }
   ],
   "source": [
    "df2_clean.head()"
   ]
  },
  {
   "cell_type": "markdown",
   "metadata": {},
   "source": [
    "### Define\n",
    "##### Table df3_clean have same observation unit that in df1_clean.\n",
    "- use merge function to make them one table called Twitter_archive_master"
   ]
  },
  {
   "cell_type": "code",
   "execution_count": 85,
   "metadata": {},
   "outputs": [
    {
     "data": {
      "text/html": [
       "<div>\n",
       "<style scoped>\n",
       "    .dataframe tbody tr th:only-of-type {\n",
       "        vertical-align: middle;\n",
       "    }\n",
       "\n",
       "    .dataframe tbody tr th {\n",
       "        vertical-align: top;\n",
       "    }\n",
       "\n",
       "    .dataframe thead th {\n",
       "        text-align: right;\n",
       "    }\n",
       "</style>\n",
       "<table border=\"1\" class=\"dataframe\">\n",
       "  <thead>\n",
       "    <tr style=\"text-align: right;\">\n",
       "      <th></th>\n",
       "      <th>tweet_id</th>\n",
       "      <th>timestamp</th>\n",
       "      <th>source</th>\n",
       "      <th>text</th>\n",
       "      <th>expanded_urls</th>\n",
       "      <th>rating_numerator</th>\n",
       "      <th>rating_denominator</th>\n",
       "      <th>name</th>\n",
       "      <th>dog_stages</th>\n",
       "      <th>Unnamed: 0</th>\n",
       "      <th>retweet_count</th>\n",
       "      <th>favorite_count</th>\n",
       "      <th>followers_count</th>\n",
       "    </tr>\n",
       "  </thead>\n",
       "  <tbody>\n",
       "    <tr>\n",
       "      <th>868</th>\n",
       "      <td>724405726123311104</td>\n",
       "      <td>2016-04-25 01:12:38+00:00</td>\n",
       "      <td>&lt;a href=\"http://twitter.com/download/iphone\" r...</td>\n",
       "      <td>This is Ashleigh. She's having Coachella withd...</td>\n",
       "      <td>https://twitter.com/dog_rates/status/724405726...</td>\n",
       "      <td>10.0</td>\n",
       "      <td>10</td>\n",
       "      <td>Ashleigh</td>\n",
       "      <td>pupper</td>\n",
       "      <td>1133</td>\n",
       "      <td>1592</td>\n",
       "      <td>5113</td>\n",
       "      <td>8941414</td>\n",
       "    </tr>\n",
       "  </tbody>\n",
       "</table>\n",
       "</div>"
      ],
      "text/plain": [
       "               tweet_id                 timestamp  \\\n",
       "868  724405726123311104 2016-04-25 01:12:38+00:00   \n",
       "\n",
       "                                                source  \\\n",
       "868  <a href=\"http://twitter.com/download/iphone\" r...   \n",
       "\n",
       "                                                  text  \\\n",
       "868  This is Ashleigh. She's having Coachella withd...   \n",
       "\n",
       "                                         expanded_urls  rating_numerator  \\\n",
       "868  https://twitter.com/dog_rates/status/724405726...              10.0   \n",
       "\n",
       "     rating_denominator      name dog_stages  Unnamed: 0  retweet_count  \\\n",
       "868                  10  Ashleigh     pupper        1133           1592   \n",
       "\n",
       "     favorite_count  followers_count  \n",
       "868            5113          8941414  "
      ]
     },
     "execution_count": 85,
     "metadata": {},
     "output_type": "execute_result"
    }
   ],
   "source": [
    "Twitter_archive_master = df1_clean.merge(df3_clean,how = 'inner',on = 'tweet_id')\n",
    "Twitter_archive_master.sample()"
   ]
  },
  {
   "cell_type": "code",
   "execution_count": 86,
   "metadata": {},
   "outputs": [
    {
     "data": {
      "text/html": [
       "<div>\n",
       "<style scoped>\n",
       "    .dataframe tbody tr th:only-of-type {\n",
       "        vertical-align: middle;\n",
       "    }\n",
       "\n",
       "    .dataframe tbody tr th {\n",
       "        vertical-align: top;\n",
       "    }\n",
       "\n",
       "    .dataframe thead th {\n",
       "        text-align: right;\n",
       "    }\n",
       "</style>\n",
       "<table border=\"1\" class=\"dataframe\">\n",
       "  <thead>\n",
       "    <tr style=\"text-align: right;\">\n",
       "      <th></th>\n",
       "      <th>tweet_id</th>\n",
       "      <th>timestamp</th>\n",
       "      <th>source</th>\n",
       "      <th>text</th>\n",
       "      <th>expanded_urls</th>\n",
       "      <th>rating_numerator</th>\n",
       "      <th>rating_denominator</th>\n",
       "      <th>name</th>\n",
       "      <th>dog_stages</th>\n",
       "      <th>retweet_count</th>\n",
       "      <th>favorite_count</th>\n",
       "      <th>followers_count</th>\n",
       "    </tr>\n",
       "  </thead>\n",
       "  <tbody>\n",
       "    <tr>\n",
       "      <th>1594</th>\n",
       "      <td>672980819271634944</td>\n",
       "      <td>2015-12-05 03:28:25+00:00</td>\n",
       "      <td>&lt;a href=\"http://twitter.com/download/iphone\" r...</td>\n",
       "      <td>Extraordinary dog here. Looks large. Just a he...</td>\n",
       "      <td>https://twitter.com/dog_rates/status/672980819...</td>\n",
       "      <td>5.0</td>\n",
       "      <td>10</td>\n",
       "      <td>NaN</td>\n",
       "      <td></td>\n",
       "      <td>938</td>\n",
       "      <td>1706</td>\n",
       "      <td>8941426</td>\n",
       "    </tr>\n",
       "    <tr>\n",
       "      <th>1515</th>\n",
       "      <td>674739953134403584</td>\n",
       "      <td>2015-12-09 23:58:35+00:00</td>\n",
       "      <td>&lt;a href=\"http://twitter.com/download/iphone\" r...</td>\n",
       "      <td>\"🎶 DO YOU BELIEVE IN LIFE AFTER LOVE 🎶\"\\n11/10...</td>\n",
       "      <td>https://twitter.com/dog_rates/status/674739953...</td>\n",
       "      <td>11.0</td>\n",
       "      <td>10</td>\n",
       "      <td>NaN</td>\n",
       "      <td></td>\n",
       "      <td>359</td>\n",
       "      <td>1031</td>\n",
       "      <td>8941422</td>\n",
       "    </tr>\n",
       "    <tr>\n",
       "      <th>1939</th>\n",
       "      <td>666293911632134144</td>\n",
       "      <td>2015-11-16 16:37:02+00:00</td>\n",
       "      <td>&lt;a href=\"http://twitter.com/download/iphone\" r...</td>\n",
       "      <td>This is a funny dog. Weird toes. Won't come do...</td>\n",
       "      <td>https://twitter.com/dog_rates/status/666293911...</td>\n",
       "      <td>3.0</td>\n",
       "      <td>10</td>\n",
       "      <td>NaN</td>\n",
       "      <td></td>\n",
       "      <td>309</td>\n",
       "      <td>450</td>\n",
       "      <td>8941430</td>\n",
       "    </tr>\n",
       "  </tbody>\n",
       "</table>\n",
       "</div>"
      ],
      "text/plain": [
       "                tweet_id                 timestamp  \\\n",
       "1594  672980819271634944 2015-12-05 03:28:25+00:00   \n",
       "1515  674739953134403584 2015-12-09 23:58:35+00:00   \n",
       "1939  666293911632134144 2015-11-16 16:37:02+00:00   \n",
       "\n",
       "                                                 source  \\\n",
       "1594  <a href=\"http://twitter.com/download/iphone\" r...   \n",
       "1515  <a href=\"http://twitter.com/download/iphone\" r...   \n",
       "1939  <a href=\"http://twitter.com/download/iphone\" r...   \n",
       "\n",
       "                                                   text  \\\n",
       "1594  Extraordinary dog here. Looks large. Just a he...   \n",
       "1515  \"🎶 DO YOU BELIEVE IN LIFE AFTER LOVE 🎶\"\\n11/10...   \n",
       "1939  This is a funny dog. Weird toes. Won't come do...   \n",
       "\n",
       "                                          expanded_urls  rating_numerator  \\\n",
       "1594  https://twitter.com/dog_rates/status/672980819...               5.0   \n",
       "1515  https://twitter.com/dog_rates/status/674739953...              11.0   \n",
       "1939  https://twitter.com/dog_rates/status/666293911...               3.0   \n",
       "\n",
       "      rating_denominator name dog_stages  retweet_count  favorite_count  \\\n",
       "1594                  10  NaN                       938            1706   \n",
       "1515                  10  NaN                       359            1031   \n",
       "1939                  10  NaN                       309             450   \n",
       "\n",
       "      followers_count  \n",
       "1594          8941426  \n",
       "1515          8941422  \n",
       "1939          8941430  "
      ]
     },
     "execution_count": 86,
     "metadata": {},
     "output_type": "execute_result"
    }
   ],
   "source": [
    "Twitter_archive_master.drop(['Unnamed: 0'], axis = 1, inplace = True)\n",
    "Twitter_archive_master.sample(3)"
   ]
  },
  {
   "cell_type": "markdown",
   "metadata": {},
   "source": [
    "# Store Data"
   ]
  },
  {
   "cell_type": "markdown",
   "metadata": {},
   "source": [
    "##### Export data as CSV file\n",
    "            - Twitter_archive_master\n",
    "            - Image_prediction"
   ]
  },
  {
   "cell_type": "code",
   "execution_count": 87,
   "metadata": {},
   "outputs": [],
   "source": [
    "Twitter_archive_master.to_csv('work_directory/Twitter_archive_master.csv')"
   ]
  },
  {
   "cell_type": "code",
   "execution_count": 88,
   "metadata": {},
   "outputs": [],
   "source": [
    "df2_clean.to_csv('work_directory/Image_prediction.csv')"
   ]
  },
  {
   "cell_type": "markdown",
   "metadata": {},
   "source": [
    "## Data Analysis, Viz & Reporting"
   ]
  },
  {
   "cell_type": "code",
   "execution_count": 89,
   "metadata": {},
   "outputs": [],
   "source": [
    "df1 = pd.read_csv('work_directory/Twitter_archive_master.csv')\n",
    "df2= pd.read_csv('work_directory/Image_prediction.csv')"
   ]
  },
  {
   "cell_type": "code",
   "execution_count": 90,
   "metadata": {},
   "outputs": [
    {
     "data": {
      "text/html": [
       "<div>\n",
       "<style scoped>\n",
       "    .dataframe tbody tr th:only-of-type {\n",
       "        vertical-align: middle;\n",
       "    }\n",
       "\n",
       "    .dataframe tbody tr th {\n",
       "        vertical-align: top;\n",
       "    }\n",
       "\n",
       "    .dataframe thead th {\n",
       "        text-align: right;\n",
       "    }\n",
       "</style>\n",
       "<table border=\"1\" class=\"dataframe\">\n",
       "  <thead>\n",
       "    <tr style=\"text-align: right;\">\n",
       "      <th></th>\n",
       "      <th>Unnamed: 0</th>\n",
       "      <th>tweet_id</th>\n",
       "      <th>timestamp</th>\n",
       "      <th>source</th>\n",
       "      <th>text</th>\n",
       "      <th>expanded_urls</th>\n",
       "      <th>rating_numerator</th>\n",
       "      <th>rating_denominator</th>\n",
       "      <th>name</th>\n",
       "      <th>dog_stages</th>\n",
       "      <th>retweet_count</th>\n",
       "      <th>favorite_count</th>\n",
       "      <th>followers_count</th>\n",
       "    </tr>\n",
       "  </thead>\n",
       "  <tbody>\n",
       "    <tr>\n",
       "      <th>853</th>\n",
       "      <td>853</td>\n",
       "      <td>727685679342333952</td>\n",
       "      <td>2016-05-04 02:26:00+00:00</td>\n",
       "      <td>&lt;a href=\"http://twitter.com/download/iphone\" r...</td>\n",
       "      <td>This is Cilantro. She's a Fellation Gadzooks. ...</td>\n",
       "      <td>https://twitter.com/dog_rates/status/727685679...</td>\n",
       "      <td>12.0</td>\n",
       "      <td>10</td>\n",
       "      <td>Cilantro</td>\n",
       "      <td>NaN</td>\n",
       "      <td>610</td>\n",
       "      <td>2859</td>\n",
       "      <td>8941413</td>\n",
       "    </tr>\n",
       "  </tbody>\n",
       "</table>\n",
       "</div>"
      ],
      "text/plain": [
       "     Unnamed: 0            tweet_id                 timestamp  \\\n",
       "853         853  727685679342333952 2016-05-04 02:26:00+00:00   \n",
       "\n",
       "                                                source  \\\n",
       "853  <a href=\"http://twitter.com/download/iphone\" r...   \n",
       "\n",
       "                                                  text  \\\n",
       "853  This is Cilantro. She's a Fellation Gadzooks. ...   \n",
       "\n",
       "                                         expanded_urls  rating_numerator  \\\n",
       "853  https://twitter.com/dog_rates/status/727685679...              12.0   \n",
       "\n",
       "     rating_denominator      name dog_stages  retweet_count  favorite_count  \\\n",
       "853                  10  Cilantro        NaN            610            2859   \n",
       "\n",
       "     followers_count  \n",
       "853          8941413  "
      ]
     },
     "execution_count": 90,
     "metadata": {},
     "output_type": "execute_result"
    }
   ],
   "source": [
    "df1['timestamp']=pd.to_datetime(df1['timestamp'])\n",
    "df1.sample()"
   ]
  },
  {
   "cell_type": "code",
   "execution_count": 91,
   "metadata": {},
   "outputs": [
    {
     "data": {
      "text/html": [
       "<div>\n",
       "<style scoped>\n",
       "    .dataframe tbody tr th:only-of-type {\n",
       "        vertical-align: middle;\n",
       "    }\n",
       "\n",
       "    .dataframe tbody tr th {\n",
       "        vertical-align: top;\n",
       "    }\n",
       "\n",
       "    .dataframe thead th {\n",
       "        text-align: right;\n",
       "    }\n",
       "</style>\n",
       "<table border=\"1\" class=\"dataframe\">\n",
       "  <thead>\n",
       "    <tr style=\"text-align: right;\">\n",
       "      <th></th>\n",
       "      <th>Unnamed: 0</th>\n",
       "      <th>tweet_id</th>\n",
       "      <th>jpg_url</th>\n",
       "      <th>img_num</th>\n",
       "      <th>prediction_level</th>\n",
       "      <th>prediction</th>\n",
       "      <th>confidence</th>\n",
       "      <th>breed</th>\n",
       "    </tr>\n",
       "  </thead>\n",
       "  <tbody>\n",
       "    <tr>\n",
       "      <th>459</th>\n",
       "      <td>459</td>\n",
       "      <td>669603084620980224</td>\n",
       "      <td>https://pbs.twimg.com/media/CUroc7QW4AATIff.jpg</td>\n",
       "      <td>1</td>\n",
       "      <td>1</td>\n",
       "      <td>Maltese_dog</td>\n",
       "      <td>0.659619</td>\n",
       "      <td>True</td>\n",
       "    </tr>\n",
       "  </tbody>\n",
       "</table>\n",
       "</div>"
      ],
      "text/plain": [
       "     Unnamed: 0            tweet_id  \\\n",
       "459         459  669603084620980224   \n",
       "\n",
       "                                             jpg_url  img_num  \\\n",
       "459  https://pbs.twimg.com/media/CUroc7QW4AATIff.jpg        1   \n",
       "\n",
       "     prediction_level   prediction  confidence  breed  \n",
       "459                 1  Maltese_dog    0.659619   True  "
      ]
     },
     "execution_count": 91,
     "metadata": {},
     "output_type": "execute_result"
    }
   ],
   "source": [
    "df2.sample()"
   ]
  },
  {
   "cell_type": "code",
   "execution_count": 92,
   "metadata": {},
   "outputs": [
    {
     "data": {
      "image/png": "[encoded data removed]",
      "text/plain": [
       "<Figure size 1440x432 with 1 Axes>"
      ]
     },
     "metadata": {},
     "output_type": "display_data"
    }
   ],
   "source": [
    "stage =  df1.groupby(['dog_stages'],as_index = True)\n",
    "ind = np.arange(len(stage))  # the x locations for the groups\n",
    "width = 0.5       # the width of the bars\n",
    "labels =stage['rating_numerator'].count().index\n",
    "\n",
    "stage_rating_max = stage ['rating_numerator'].max()\n",
    "stage_rating_mean = stage['rating_numerator'].mean()\n",
    "stage_rating_min =stage['rating_numerator'].min()\n",
    "\n",
    "plt.figure(figsize=(20,6))\n",
    "\n",
    "plt.bar(ind+width/3,stage_rating_max,color= 'b',  width= width/3, alpha = .7);\n",
    "plt.bar(ind,stage_rating_mean,color= 'c', width= width/3, alpha = .7);\n",
    "plt.bar(ind-width/3,stage_rating_min,color= 'w', width= width/3, alpha = .7);\n",
    "\n",
    "\n",
    "plt.title('Rating distribution per Dog Stage',size = 40)\n",
    "plt.ylabel('Rating' ,color='b', size=22);\n",
    "plt.xticks(ticks= ind, labels=labels, fontsize=16);"
   ]
  },
  {
   "cell_type": "markdown",
   "metadata": {},
   "source": [
    "## The previous figure show \"rating distribution\" for each \"dog stage\", though we could not compar each stage to others because the \"rating count\" not involved in our calculation.\n",
    "\n",
    "## ie. the mean of \"doggopuppo\" the highest while the \"pupper\" is the lowest, then if we get each stage rating count relative to the total stages rating count into our calculation as a proportional factor we realize that the relative mean of \"doggopuppo\" the lowest while for the \"pupper\" is the highest.\n",
    "\n",
    "## Next figure will introduce proportional factor into calculation. \n",
    "## But befor move forward I would represent another sight. Have a look at \"doggopuppo\" and \"doggofloofer\" distribution there is no \"Variance\". The \"max\", \"min\", and \"mean\" all have the same value. that give us intuation about the data beneath bars, I guess its only one observation. let's check it out."
   ]
  },
  {
   "cell_type": "code",
   "execution_count": 93,
   "metadata": {},
   "outputs": [
    {
     "data": {
      "text/plain": [
       "dog_stages\n",
       "doggo            62\n",
       "doggofloofer      1\n",
       "doggopupper       8\n",
       "doggopuppo        1\n",
       "floofer           7\n",
       "pupper          201\n",
       "puppo            22\n",
       "Name: rating_numerator, dtype: int64"
      ]
     },
     "execution_count": 93,
     "metadata": {},
     "output_type": "execute_result"
    }
   ],
   "source": [
    "stage['rating_numerator'].count()"
   ]
  },
  {
   "cell_type": "markdown",
   "metadata": {},
   "source": [
    "## That's what I am talking about. Both stages \"doggopuppo\" and \"doggofloofer\" only have one observation.\n",
    "\n",
    "----------------------------------------------------------------------------------------------------------------------------------------\n",
    "\n",
    "\n",
    "\n",
    "## Let's move forward and check \"Relative Mean Rating\"."
   ]
  },
  {
   "cell_type": "code",
   "execution_count": 94,
   "metadata": {},
   "outputs": [
    {
     "data": {
      "image/png": "[encoded data removed]",
      "text/plain": [
       "<Figure size 1440x432 with 1 Axes>"
      ]
     },
     "metadata": {},
     "output_type": "display_data"
    }
   ],
   "source": [
    "stage_rating_count = stage.rating_numerator.count()\n",
    "\n",
    "total_rating_count =stage.rating_numerator.count().sum()\n",
    "\n",
    "proportion = stage_rating_count/total_rating_count\n",
    "\n",
    "stage_rating_proportion = stage_rating_mean * proportion\n",
    "\n",
    "plt.figure(figsize=(20,6))\n",
    "\n",
    "plt.bar(ind,stage_rating_proportion,color='c', width=width/3,alpha=.9);\n",
    "\n",
    "plt.title('Relative Mean Rating VSDog Stage',size = 40)\n",
    "plt.ylabel('Relative Mean Rating' ,color='r', size=22);\n",
    "plt.xticks(ticks= ind, labels=labels, fontsize=16);"
   ]
  },
  {
   "cell_type": "markdown",
   "metadata": {},
   "source": [
    "## Here it is, the Relative Mean Rating which you can compare stages to each other.\n",
    "## That prove the point we mentioned early the relative mean of \"doggopuppo\" the lowest while for the \"pupper\" is the highest.\n",
    "\n",
    "--------------------------------------------------------------------------------------------------------------------------------------"
   ]
  },
  {
   "cell_type": "markdown",
   "metadata": {},
   "source": [
    "## In the next will examine the Favorite and Retweets for each stage but with `.sum` which will represent actual count of observation in another word no need to get the proportional ratio, henc it will represented directly."
   ]
  },
  {
   "cell_type": "code",
   "execution_count": 95,
   "metadata": {},
   "outputs": [
    {
     "data": {
      "text/plain": [
       "dog_stages\n",
       "doggo           1138255\n",
       "doggofloofer      15452\n",
       "doggopupper      106097\n",
       "doggopuppo        43418\n",
       "floofer           81983\n",
       "pupper          1312025\n",
       "puppo            448441\n",
       "Name: favorite_count, dtype: int64"
      ]
     },
     "execution_count": 95,
     "metadata": {},
     "output_type": "execute_result"
    }
   ],
   "source": [
    " stage ['favorite_count'].sum()"
   ]
  },
  {
   "cell_type": "code",
   "execution_count": 96,
   "metadata": {},
   "outputs": [
    {
     "data": {
      "image/png": "[encoded data removed]",
      "text/plain": [
       "<Figure size 1440x432 with 1 Axes>"
      ]
     },
     "metadata": {},
     "output_type": "display_data"
    }
   ],
   "source": [
    "stage_total_favorite = stage ['favorite_count'].sum()\n",
    "\n",
    "stage_total_retweet = stage['retweet_count'].sum()\n",
    "\n",
    "plt.figure(figsize=(20,6))\n",
    "\n",
    "plt.bar(ind+width/6,stage_total_favorite,color='c', width=width/3,alpha=.7,label='favorite');\n",
    "plt.bar(ind-width/6,stage_total_retweet,color='w', width=width/3,alpha=.7,label='retweet');\n",
    "\n",
    "plt.title('Total Number of Favorites and Retweets per Dog Stage',size = 40)\n",
    "plt.ylabel('Favorite and Retweets Count ' ,color='b', size=22);\n",
    "plt.xticks(ticks= ind, labels=labels, fontsize=16);\n",
    "plt.legend(fontsize=20);"
   ]
  },
  {
   "cell_type": "markdown",
   "metadata": {},
   "source": [
    "## Same data with diffrent visuelisation"
   ]
  },
  {
   "cell_type": "code",
   "execution_count": 97,
   "metadata": {},
   "outputs": [
    {
     "data": {
      "image/png": "[encoded data removed]",
      "text/plain": [
       "<Figure size 1584x576 with 1 Axes>"
      ]
     },
     "metadata": {},
     "output_type": "display_data"
    }
   ],
   "source": [
    "fig, ax = plt.subplots()\n",
    "fig.set_size_inches(22, 8)\n",
    "ax.bar(labels, stage_total_favorite, width, label='Favorite')\n",
    "ax.bar(labels, stage_total_retweet, width, bottom=stage_total_favorite,label='Retweet',color='orange')\n",
    "\n",
    "plt.title('Total Number of Favorites and Retweets per Dog Stage',size = 40)\n",
    "plt.ylabel('Favorite and Retweets Count' ,color='r', size=22);\n",
    "plt.xticks(ticks= ind, labels=labels, fontsize=16);\n",
    "plt.legend(fontsize=20);\n",
    "\n",
    "plt.show()"
   ]
  },
  {
   "cell_type": "markdown",
   "metadata": {},
   "source": [
    "---------------------------------------------------------------------------------------------------------------------------------------\n",
    "\n",
    "\n",
    "## Now How is the interaction? is people get intersted with page posts and contents? and is it growth over time or not?\n",
    "## All these question could be answerd via the interaction over time which figure out the people engagement."
   ]
  },
  {
   "cell_type": "code",
   "execution_count": 98,
   "metadata": {},
   "outputs": [
    {
     "data": {
      "image/png": "[encoded data removed]",
      "text/plain": [
       "<Figure size 1440x432 with 1 Axes>"
      ]
     },
     "metadata": {},
     "output_type": "display_data"
    },
    {
     "data": {
      "image/png": "[encoded data removed]",
      "text/plain": [
       "<Figure size 1440x432 with 1 Axes>"
      ]
     },
     "metadata": {},
     "output_type": "display_data"
    }
   ],
   "source": [
    "df1['year']=df1['timestamp'].dt.year\n",
    "df1['month']=df1['timestamp'].dt.month\n",
    "time = df1.groupby(['year','month'],as_index = True)\n",
    "fav_time = time['favorite_count'].mean()\n",
    "ret_time = time['retweet_count'].mean()\n",
    "fol_time = time['followers_count'].mean()\n",
    "\n",
    "plt.figure(figsize=(20,6))\n",
    "\n",
    "fav_time.plot(kind='line',color='r',fontsize=22)\n",
    "ret_time.plot(kind='line',color='g',fontsize=22)\n",
    "\n",
    "\n",
    "plt.title(' Interaction overtime ',size = 40)\n",
    "plt.ylabel('Favorite and Retweet Counts ' , size=22);\n",
    "plt.xlabel('Year, Month ' , size=22);\n",
    "plt.legend(fontsize=20);\n",
    "\n",
    "plt.figure(figsize=(20,6))\n",
    "fol_time.plot(kind='line',color='g',fontsize=22)\n",
    "\n",
    "plt.ylabel('followers count' , size=22);\n",
    "plt.xlabel('Year, Month ' , size=22);\n",
    "plt.legend(fontsize=20);\n",
    "\n"
   ]
  },
  {
   "cell_type": "markdown",
   "metadata": {},
   "source": [
    "# people interaction \n",
    "## The Peopel interaction via favorits and retweets is growing as shown in the first figure. Notice that favorites always more than retweets that because less people have intersted in writing posts, while most of them like and go.\n",
    "## in the other hand we see the followers count over time descending!! is that wierd? what does it mean?\n",
    "## Don't confuse, it's concept of a new-follwer. Early all people was a new follower who can hit follow. Then after aperiod of time as the number of follwers increased the new followers will decreased. Make sense\n",
    "\n",
    "\n",
    "---------------------------------------------------------------------------------------------------------------------------------------"
   ]
  },
  {
   "cell_type": "markdown",
   "metadata": {},
   "source": [
    "# Image Prediction \n",
    "## In the following figure we Examin the second data set which show the confident destribution for various prediction level.\n",
    "## clearly it show that the first prediction has the most confident level "
   ]
  },
  {
   "cell_type": "code",
   "execution_count": 99,
   "metadata": {},
   "outputs": [],
   "source": [
    "image = df2.groupby(['prediction_level'],as_index = True)\n",
    "ind2 = np.arange(len(image))  # the x locations for the groups\n",
    "width2 = 0.5     # the width of the bars\n",
    "labels2 =image['prediction_level'].max().index"
   ]
  },
  {
   "cell_type": "code",
   "execution_count": 100,
   "metadata": {},
   "outputs": [
    {
     "data": {
      "image/png": "[encoded data removed]",
      "text/plain": [
       "<Figure size 1440x432 with 1 Axes>"
      ]
     },
     "metadata": {},
     "output_type": "display_data"
    }
   ],
   "source": [
    "max_conf=image.confidence.max()\n",
    "mean_conf=image.confidence.mean()\n",
    "min_conf=image.confidence.min()\n",
    "\n",
    "plt.figure(figsize=(20,6))\n",
    "\n",
    "plt.bar(ind2+width2/3,max_conf,color= 'b',  width= width2/3,alpha=.7);\n",
    "plt.bar(ind2,mean_conf,color='c', width=width2/3,alpha=.7);\n",
    "plt.bar(ind2-width2/3,min_conf,color='w', width=width2/3,alpha=.7);\n",
    "\n",
    "plt.title('Image Prediction Confident Destribution',color='b',size = 40)\n",
    "plt.ylabel('Confiden Level' ,color='b', size=22);\n",
    "plt.xticks(ticks= ind2, labels=labels2, fontsize=16);"
   ]
  },
  {
   "cell_type": "code",
   "execution_count": 101,
   "metadata": {},
   "outputs": [
    {
     "data": {
      "image/png": "[encoded data removed]",
      "text/plain": [
       "<Figure size 1440x432 with 1 Axes>"
      ]
     },
     "metadata": {},
     "output_type": "display_data"
    }
   ],
   "source": [
    "plt.figure(figsize=(20,6))\n",
    "df2.prediction.value_counts()[np.arange(10)].plot(kind = 'bar', color= 'y');\n",
    "xlabels = df2.prediction.value_counts()[np.arange(10)].index\n",
    "\n",
    "plt.title('Top Ten Dog Bread',color='b',size = 40)\n",
    "plt.ylabel('Dog Count' ,color='b', size=22);\n",
    "plt.xticks(ticks=np.arange(10), labels= xlabels, fontsize=18);"
   ]
  },
  {
   "cell_type": "markdown",
   "metadata": {},
   "source": [
    "## Here the top 10 dog bread commonly shared over the page and people interact with"
   ]
  }
 ],
 "metadata": {
  "kernelspec": {
   "display_name": "Python 3",
   "language": "python",
   "name": "python3"
  },
  "language_info": {
   "codemirror_mode": {
    "name": "ipython",
    "version": 3
   },
   "file_extension": ".py",
   "mimetype": "text/x-python",
   "name": "python",
   "nbconvert_exporter": "python",
   "pygments_lexer": "ipython3",
   "version": "3.8.5"
  }
 },
 "nbformat": 4,
 "nbformat_minor": 4
}
